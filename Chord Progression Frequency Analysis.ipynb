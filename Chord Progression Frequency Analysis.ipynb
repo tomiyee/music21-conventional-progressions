{
 "cells": [
  {
   "cell_type": "markdown",
   "metadata": {},
   "source": [
    "# Chord Progression Frequency Analysis\n",
    "This python notebook will look into the frequency of chord progressions in a composer's repertoire.\n",
    "\n",
    "\n",
    "\n",
    "## Table of Contents:\n",
    "\n",
    "* [Preprocessing](#preprocessing)\n",
    "    * [Sequence Dictionary](#seq-dict)\n",
    "    * [Loading Datasets](#loading-datasests)\n",
    "* [Method 1 - Counting Overall Percentage](#method-1)\n",
    "* [Method 2 - Provide percentages at every chord](#method-2)\n",
    "* [Method 3 - Kernel Frequency Analysis](#method-3)"
   ]
  },
  {
   "cell_type": "markdown",
   "metadata": {},
   "source": [
    "# Preprocessing  <a class=\"anchor\" id=\"preprocessing\"></a>\n",
    "\n",
    "Before we begin the analysis, we will create a couple of helper functions to conduct the rest of the frequency analysis methods."
   ]
  },
  {
   "cell_type": "markdown",
   "metadata": {},
   "source": [
    "## 1. Sequence Dictionary <a class=\"anchor\" id=\"seq-dict\"></a>\n",
    "The first step is to determine the frequency of an n-long sequence in a text file formatted as in the List Generator notebook."
   ]
  },
  {
   "cell_type": "code",
   "execution_count": 1,
   "metadata": {},
   "outputs": [],
   "source": [
    "def build_n_sequence_dictionary(n : int, txt : str) -> dict:\n",
    "    \"\"\"\n",
    "    Given a length n, returns a dictionary containing sequences\n",
    "    in txt of length n mapped to the number of times they appear\n",
    "    in txt.\n",
    "    \"\"\"\n",
    "    seq_dict = dict()\n",
    "    \n",
    "    blocks = txt.split('\\n')\n",
    "    for block in blocks:\n",
    "        elems = block.split(',')\n",
    "        for i in range(len(elems) - n):\n",
    "            seq = elems[i:i+n]\n",
    "            seq_dict[tuple(seq)] = seq_dict.get(tuple(seq), 0) + 1\n",
    "    return seq_dict            "
   ]
  },
  {
   "cell_type": "code",
   "execution_count": 2,
   "metadata": {},
   "outputs": [
    {
     "name": "stdout",
     "output_type": "stream",
     "text": [
      "[(('V', 'i'), 4), (('I', 'IV'), 3), (('i', 'V'), 2), (('i', 'i'), 2), (('I', 'I'), 1)]\n"
     ]
    }
   ],
   "source": [
    "# test build_n_sequence_dictionary()\n",
    "\n",
    "# The following text is the beginning of 'monteverdi/madrigal.3.1.rntxt'\n",
    "test_txt = \"vi,V,I,IV,I,V,V,i,V,i,VI,V,i,V,i,i,i,I,IV,ii,vii,I,vi,I,I,IV,vii\"\n",
    "seq_dict = build_n_sequence_dictionary(2, test_txt)\n",
    "\n",
    "# Show the most frequently found chord progressions of length 2\n",
    "print(sorted(seq_dict.items(), key=lambda kv:(-kv[1], kv[0]))[:5])"
   ]
  },
  {
   "cell_type": "markdown",
   "metadata": {},
   "source": [
    "## 2. Loading the Datasets  <a class=\"anchor\" id=\"loading-datasets\"></a>\n",
    "\n",
    "The next helper function will load the datasets that are generated from the `List Generator` Jupyter notebook. Given the desired composer and whether or not we want to use the dataset that encodes inversions, this method will return the contents of the respective file. "
   ]
  },
  {
   "cell_type": "code",
   "execution_count": 3,
   "metadata": {},
   "outputs": [],
   "source": [
    "def get_dataset(composer: str, with_inversions=False) -> str:\n",
    "    '''\n",
    "    Given a composer and a flag for inversions, returns the correct\n",
    "    dataset containing the composer's repertoire as a string.\n",
    "    \n",
    "    If with_inversions is True, the dataset returned will contain\n",
    "    inversions as (0), (1), etc. after each roman numeral, where\n",
    "    (0) is the root position.\n",
    "    '''\n",
    "    if composer == 'bach':\n",
    "        if with_inversions:\n",
    "            return open(\"datasets/inv-dataset-bach.txt\",\"r\").read()\n",
    "        else:\n",
    "            return open(\"datasets/simple-dataset-bach.txt\",\"r\").read()\n",
    "    elif composer == 'monteverdi':\n",
    "        if with_inversions:\n",
    "            return open(\"datasets/inv-dataset-monteverdi.txt\",\"r\").read()\n",
    "        else:\n",
    "            return open(\"datasets/simple-dataset-monteverdi.txt\",\"r\").read()\n",
    "    else:\n",
    "        raise NotImplementedError(\"The composer you've entered is not in the database.\")"
   ]
  },
  {
   "cell_type": "markdown",
   "metadata": {},
   "source": [
    "# Method 1 - Counting and getting an overall percentage <a class=\"anchor\" id=\"method-1\"></a>\n",
    "\n",
    "For this function, we count the number of times the given progression appears in the composer's repertoire and calculate a percentage based on all n-long chord progressions used in their repertoire."
   ]
  },
  {
   "cell_type": "code",
   "execution_count": 4,
   "metadata": {},
   "outputs": [],
   "source": [
    "def progression_count_and_percent(prog: str, composer: str, with_inversions=False, as_msg=False):\n",
    "    '''\n",
    "    Given a chord progression formatted as roman numerals separated by commas\n",
    "    (if with_inversions=True, parentheses containing the inversion number, 0 \n",
    "    being the root position, follow each roman numeral) and a composer \n",
    "    (currently 'bach' and 'monteverdi' are the only ones supported),\n",
    "    returns a tuple containing the number of times the given progression\n",
    "    appears in the composer's repertoire and the percentage used based on\n",
    "    all n-long progressions. \n",
    "    \n",
    "    If as_msg is True, returns a string containing information in English instead.\n",
    "    '''\n",
    "    # removes any whitespace\n",
    "    prog = prog.replace(' ', '')\n",
    "\n",
    "    txt = get_dataset(composer, with_inversions)\n",
    "        \n",
    "    # creates the dictionary given the progression\n",
    "    prog_list = tuple(prog.split(','))\n",
    "    seq_dict = build_n_sequence_dictionary(len(prog_list), txt)\n",
    "    total_progs = sum(seq_dict.values())\n",
    "    num_times = seq_dict.get(prog_list, 0)\n",
    "    \n",
    "    if as_msg:\n",
    "        msg = ''\n",
    "        if num_times == 0:\n",
    "            msg = composer + ' never uses [' + prog + '] in their repertoire.'\n",
    "        if num_times == 1:\n",
    "            msg = composer + ' uses [' + prog + '] ' + str(num_times) + ' time in their repertoire.\\n'\n",
    "        else: \n",
    "            msg = composer + ' uses [' + prog + '] ' + str(num_times) + ' times in their repertoire.\\n'\n",
    "        msg += 'Compared to other length-' + str(len(prog_list)) + ' progressions, [' + prog + '] is used {:.2f}'.format(num_times/total_progs*100) + '% of the time.'\n",
    "        return msg\n",
    "    return num_times, num_times/total_progs"
   ]
  },
  {
   "cell_type": "code",
   "execution_count": 5,
   "metadata": {},
   "outputs": [
    {
     "name": "stdout",
     "output_type": "stream",
     "text": [
      "Test Without Inversions\n",
      "monteverdi uses [V,I] 446 times in their repertoire.\n",
      "Compared to other length-2 progressions, [V,I] is used 6.74% of the time.\n",
      "\n",
      "Test With Inversions\n",
      "monteverdi uses [V(0),I(0)] 312 times in their repertoire.\n",
      "Compared to other length-2 progressions, [V(0),I(0)] is used 4.72% of the time.\n"
     ]
    }
   ],
   "source": [
    "# test without inversion\n",
    "print(\"Test Without Inversions\")\n",
    "prog = 'V,I'\n",
    "print(progression_count_and_percent(prog, 'monteverdi', as_msg=True))\n",
    "\n",
    "# test with inversion\n",
    "print(\"\\nTest With Inversions\")\n",
    "prog = 'V(0),I(0)'\n",
    "print(progression_count_and_percent(prog, 'monteverdi', with_inversions=True, as_msg=True))"
   ]
  },
  {
   "cell_type": "markdown",
   "metadata": {},
   "source": [
    "# Method 2 - Provide percentages at every chord <a class=\"anchor\" id=\"method-2\"></a>\n",
    "For this function, we output the percentage of times a composer uses each chord in the progression given the previous chords in the progression."
   ]
  },
  {
   "cell_type": "code",
   "execution_count": 6,
   "metadata": {},
   "outputs": [],
   "source": [
    "def progression_probability(prog: str, composer: str, with_inversions=False, as_msg=False):\n",
    "    '''\n",
    "    Given a chord progression formatted as roman numerals separated by commas\n",
    "    (if with_inversions=True, parentheses containing the inversion number, 0 \n",
    "    being the root inversion, follow each roman numeral) and a composer \n",
    "    (currently 'bach' and 'monteverdi' are the only ones supported),\n",
    "    returns a list containing the probability that the i-th chord in the\n",
    "    progression follows the i-1 chords that precede it using its frequency\n",
    "    in the composer's repertoire.\n",
    "    \n",
    "    If as_msg is True, returns a string containing information in English instead.\n",
    "    '''\n",
    "    # removes any whitespace\n",
    "    prog = prog.replace(' ', '')\n",
    "    \n",
    "    txt = get_dataset(composer, with_inversions)    \n",
    "    \n",
    "    prog_prob = [] # empty list to contain tuples of chord progression and probabilities\n",
    "    prog_list = tuple(prog.split(','))\n",
    "    # creates the dictionary given the progression\n",
    "    seq_dict = build_n_sequence_dictionary(len(prog_list), txt) \n",
    "    \n",
    "    # values to be modified as i-1 chords in progression are given\n",
    "    total_progs = sum(seq_dict.values())\n",
    "    chords_to_check = seq_dict.keys()\n",
    "    \n",
    "    # flag used when progression is not used in repertoire\n",
    "    shortcut = False\n",
    "    \n",
    "    for i in range(len(prog_list)):\n",
    "        if shortcut:\n",
    "            prog_prob.append((prog_list[:i+1], 0.))\n",
    "            continue\n",
    "            \n",
    "        same_start_chords = list(filter(lambda a: (a[:i+1] == prog_list[:i+1]), chords_to_check))\n",
    "        \n",
    "        # count number of same_start_chords in repertoire\n",
    "        progs = 0\n",
    "        for chord in same_start_chords:\n",
    "            progs += seq_dict[chord]\n",
    "        if progs == 0:\n",
    "            # shows actual chords that follow\n",
    "            shortcut = True\n",
    "        \n",
    "        # add probability to list\n",
    "        prog_prob.append((prog_list[:i+1], progs/total_progs))\n",
    "        # update values assuming i-1 chords are given\n",
    "        total_progs = progs\n",
    "        chords_to_check = same_start_chords\n",
    "    \n",
    "    if as_msg:\n",
    "        msg = ''\n",
    "        \n",
    "        # msg for first chord in progression\n",
    "        msg += composer + ' starts a progression with [' + prog_list[0] + \\\n",
    "                '] {:.2f}'.format(prog_prob[0][1]*100) + '% of the time.'\n",
    "        for i in range(1, len(prog_list)):\n",
    "            msg += '\\n' + composer + ' follows [' + ','.join([chord for chord in prog_list[:i]]) + \\\n",
    "                    '] with [' + prog_list[i] + '] {:.2f}'.format(prog_prob[i][1]*100) + '% of the time.'\n",
    "        return msg\n",
    "    return prog_prob"
   ]
  },
  {
   "cell_type": "code",
   "execution_count": 7,
   "metadata": {},
   "outputs": [
    {
     "name": "stdout",
     "output_type": "stream",
     "text": [
      "monteverdi starts a progression with [V] 22.73% of the time.\n",
      "monteverdi follows [V] with [I] 30.12% of the time.\n",
      "monteverdi follows [V,I] with [IV] 14.19% of the time.\n",
      "monteverdi follows [V,I,IV] with [V] 29.03% of the time.\n",
      "monteverdi follows [V,I,IV,V] with [vi] 11.11% of the time.\n",
      "monteverdi follows [V,I,IV,V,vi] with [iii] 50.00% of the time.\n",
      "monteverdi follows [V,I,IV,V,vi,iii] with [V] 0.00% of the time.\n"
     ]
    }
   ],
   "source": [
    "# test without inversion\n",
    "prog = 'V,I,IV,V,vi,iii,V'\n",
    "print(progression_probability(prog, 'monteverdi', as_msg=True))"
   ]
  },
  {
   "cell_type": "code",
   "execution_count": 8,
   "metadata": {
    "scrolled": true
   },
   "outputs": [
    {
     "name": "stdout",
     "output_type": "stream",
     "text": [
      "monteverdi starts a progression with [V(0)] 19.96% of the time.\n",
      "monteverdi follows [V(0)] with [I(0)] 23.64% of the time.\n"
     ]
    }
   ],
   "source": [
    "# test with inversion\n",
    "prog = 'V(0),I(0)'\n",
    "print(progression_probability(prog, 'monteverdi', with_inversions=True, as_msg=True))"
   ]
  },
  {
   "cell_type": "markdown",
   "metadata": {},
   "source": [
    "#  Method 3 - Sliding Kernel <a class=\"anchor\" id=\"method-3\"></a>\n",
    "\n",
    "This approach is similar to the approach in Method 2, but with a fixed length look back. This method slides a \"kernel\" across the provided progression and returns the result of the frequencies aas a list. \n",
    "\n",
    "Using `look_back` consecutive chords, see if the next chord is followed with more than `threshold` probability in the given composers repertoire."
   ]
  },
  {
   "cell_type": "code",
   "execution_count": 9,
   "metadata": {},
   "outputs": [],
   "source": [
    "def progression_kernel(prog: str, composer: str, with_inversions=False, look_back=2, verbose=False):\n",
    "    '''\n",
    "    Given a progression as a comma-separated string and the composer we want to compare the\n",
    "    chord progression to, we will use a sliding kernel to determine the likelihood that a \n",
    "    sequence of look_back chords in the composer's repertoire is followed by the next chord \n",
    "    in the provided progression. \n",
    "    \n",
    "    If verbose is true, the method will print the likelihood of each kernel progression as we\n",
    "    loop.\n",
    "    '''\n",
    "    percentages = []\n",
    "    \n",
    "    # removes any whitespace\n",
    "    prog = prog.replace(' ', '')\n",
    "\n",
    "    txt = get_dataset(composer, with_inversions)\n",
    "        \n",
    "    # creates the dictionary given the progression\n",
    "    prog_list = tuple(prog.split(','))\n",
    "    \n",
    "    if verbose:\n",
    "        print(\"Analyzing progression: [{}]\".format(prog))\n",
    "    \n",
    "    look_back_dict = build_n_sequence_dictionary(look_back, txt)\n",
    "    \n",
    "    seq_dict = build_n_sequence_dictionary(look_back + 1, txt)\n",
    "\n",
    "    # For every look_back + 1 sequence in the progression\n",
    "    for i in range(len(prog_list)-look_back):\n",
    "        \n",
    "        # Total Occurances of look_back\n",
    "        look_back_occurances = look_back_dict.get((prog_list[i:i+look_back]),0)\n",
    "        # Num Occurances look back is followed by the next chord\n",
    "        look_back_with_next_chord = seq_dict.get(prog_list[i:i+look_back+1], 0)\n",
    "        \n",
    "        # Calculate the frequency that a chord follows the n previous\n",
    "        if look_back_occurances == 0:\n",
    "            prog_percent = 0\n",
    "        else:\n",
    "            prog_percent = look_back_with_next_chord / look_back_occurances\n",
    "        \n",
    "        percentages.append(prog_percent)\n",
    "        \n",
    "        if verbose:\n",
    "            print(\"{} follows [{}] with [{}] {:.2f}% of the time\".format(\n",
    "                composer, \n",
    "                \",\".join(prog_list[i:i+look_back]), \n",
    "                prog_list[i+look_back],\n",
    "                prog_percent * 100))\n",
    "        \n",
    "    return percentages"
   ]
  },
  {
   "cell_type": "code",
   "execution_count": 10,
   "metadata": {},
   "outputs": [
    {
     "name": "stdout",
     "output_type": "stream",
     "text": [
      "--  Example 1\n",
      "Analyzing progression: [V,I,IV,V,vi,iii,V]\n",
      "monteverdi follows [V,I] with [IV] 14.13% of the time\n",
      "monteverdi follows [I,IV] with [V] 20.83% of the time\n",
      "monteverdi follows [IV,V] with [vi] 7.34% of the time\n",
      "monteverdi follows [V,vi] with [iii] 8.70% of the time\n",
      "monteverdi follows [vi,iii] with [V] 9.09% of the time\n",
      "\n",
      "--  Example 2\n",
      "Analyzing progression: [V,iii,iv,V,VI,I,V]\n",
      "monteverdi follows [V,iii] with [iv] 0.00% of the time\n",
      "monteverdi follows [iii,iv] with [V] 100.00% of the time\n",
      "monteverdi follows [iv,V] with [VI] 0.00% of the time\n",
      "monteverdi follows [V,VI] with [I] 0.00% of the time\n",
      "monteverdi follows [VI,I] with [V] 28.57% of the time\n"
     ]
    },
    {
     "data": {
      "text/plain": [
       "[0.0, 1.0, 0.0, 0.0, 0.2857142857142857]"
      ]
     },
     "execution_count": 10,
     "metadata": {},
     "output_type": "execute_result"
    }
   ],
   "source": [
    "\n",
    "print(\"--  Example 1\")\n",
    "progression_kernel('V,I,IV,V,vi,iii,V', \"monteverdi\",look_back=2,verbose=True)\n",
    "\n",
    "print(\"\\n--  Example 2\")\n",
    "\n",
    "progression_kernel('V,I,IV,V,vi,iii,V'[::-1], \"monteverdi\",look_back=2,verbose=True)"
   ]
  },
  {
   "cell_type": "code",
   "execution_count": 11,
   "metadata": {},
   "outputs": [
    {
     "name": "stdout",
     "output_type": "stream",
     "text": [
      "Progression: I,V,i\n",
      "Analyzing progression: [I,V,i]\n",
      "monteverdi follows [I,V] with [i] 6.71% of the time\n"
     ]
    },
    {
     "data": {
      "text/plain": [
       "[0.06713780918727916]"
      ]
     },
     "execution_count": 11,
     "metadata": {},
     "output_type": "execute_result"
    }
   ],
   "source": [
    "prog = input(\"Progression: \")\n",
    "progression_kernel(prog, \"monteverdi\",look_back=2,verbose=True)"
   ]
  },
  {
   "cell_type": "markdown",
   "metadata": {},
   "source": [
    "# Simple Likelihood Analysis\n",
    "\n",
    "The basics of this analysis is to look at the list of frequencies that are given by the kernel method above. If any part of the progression is below some arbitrary threshold, `progression_likelihood` says that the progression is unlikely. If all parts of the progression is above a different threshold, it says the progression is fairly likely. Otherwise, it says that it cannot give a strong opinion one way or the other. "
   ]
  },
  {
   "cell_type": "code",
   "execution_count": 12,
   "metadata": {},
   "outputs": [],
   "source": [
    "def progression_likelihood (prog: str, composer: str, with_inversions=False, look_back=2):\n",
    "    '''\n",
    "    Given a progression as a comma-separated string and the composer we want to compare the\n",
    "    chord progression to, determines the similarity of this chord progression to those used \n",
    "    by the composer, using a sliding kernel.\n",
    "    \n",
    "    If the likelyhood of any kernel is below a specified threshold, it returns that the \n",
    "    provided progression is unlikely to be used by the composer.\n",
    "    \n",
    "    If the likelyhood of all kernels are above a specified threshold, it returns that the \n",
    "    provided progression is pretty likely to be used by the composer.\n",
    "    \n",
    "    Otherwise it returns that the provided progression seems somewhat reasonable.\n",
    "    '''\n",
    "    \n",
    "    # Arbitrary Thresholds\n",
    "    unlikely_threshold = 0.1\n",
    "    likely_threshold = 0.4\n",
    "    # Saves the list of frequencies given by the kernel method above\n",
    "    probabilities = progression_kernel(prog, composer, with_inversions=with_inversions,look_back=look_back)\n",
    "    \n",
    "    if min(probabilities) < unlikely_threshold:\n",
    "        return \"Not Likely\"\n",
    "    if min(probabilities) > likely_threshold:\n",
    "        return \"Fairly Likely\"\n",
    "    return \"Somewhat reasonable\"\n",
    "    "
   ]
  },
  {
   "cell_type": "code",
   "execution_count": 13,
   "metadata": {},
   "outputs": [
    {
     "name": "stdout",
     "output_type": "stream",
     "text": [
      "Progression?I(0),V(0),iii(3)\n",
      "Not Likely\n"
     ]
    }
   ],
   "source": [
    "prog = input(\"Progression?\")\n",
    "print(progression_likelihood(prog, \"monteverdi\", with_inversions=True,look_back=2))"
   ]
  }
 ],
 "metadata": {
  "kernelspec": {
   "display_name": "Python 3",
   "language": "python",
   "name": "python3"
  },
  "language_info": {
   "codemirror_mode": {
    "name": "ipython",
    "version": 3
   },
   "file_extension": ".py",
   "mimetype": "text/x-python",
   "name": "python",
   "nbconvert_exporter": "python",
   "pygments_lexer": "ipython3",
   "version": "3.7.5"
  }
 },
 "nbformat": 4,
 "nbformat_minor": 4
}
