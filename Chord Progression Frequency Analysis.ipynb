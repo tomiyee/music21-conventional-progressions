{
 "cells": [
  {
   "cell_type": "markdown",
   "metadata": {},
   "source": [
    "# Chord Progression Frequency Analysis\n",
    "This python notebook will look into the frequency of chord progressions in a composer's repertoire.\n",
    "\n",
    "\n",
    "\n",
    "## Table of Contents:\n",
    "\n",
    "* [Preprocessing](#preprocessing)\n",
    "    * [Sequence Dictionary](#seq-dict)\n",
    "    * [Loading Datasets](#loading-datasets)\n",
    "* [Method 1 - Counting Overall Percentage](#method-1)\n",
    "    * [Problems](#method-1-problems)\n",
    "* [Method 2 - Provide percentages at every chord](#method-2)\n",
    "    * [Problems](#method-2-problems)\n",
    "* [Method 3 - Kernel Frequency Analysis](#method-3)\n",
    "    * [Problems](#method-3-problems)\n",
    "* [Example Likelihood Analysis](#example)"
   ]
  },
  {
   "cell_type": "markdown",
   "metadata": {},
   "source": [
    "# Preprocessing  <a class=\"anchor\" name=\"preprocessing\"></a>\n",
    "\n",
    "Before we begin the analysis, we will create a couple of helper functions to conduct the rest of the frequency analysis methods."
   ]
  },
  {
   "cell_type": "markdown",
   "metadata": {},
   "source": [
    "## Sequence Dictionary <a class=\"anchor\" name=\"seq-dict\"></a>\n",
    "The first step is to determine the frequency of an n-long sequence in a text file formatted as in the List Generator notebook."
   ]
  },
  {
   "cell_type": "code",
   "execution_count": 1,
   "metadata": {},
   "outputs": [],
   "source": [
    "def build_n_sequence_dictionary(n : int, txt : str) -> dict:\n",
    "    \"\"\"\n",
    "    Returns a dict counting appearances of n-long progressions\n",
    "    \n",
    "    Parameters\n",
    "    ----------\n",
    "    n : int\n",
    "        The length of progressions to count\n",
    "    txt : str\n",
    "        A comma-separated string of roman numerals\n",
    "    \n",
    "    Returns\n",
    "    -------\n",
    "    dict \n",
    "        Maps sequences in txt of length n to the number of times\n",
    "        they appear in txt\n",
    "    \"\"\"\n",
    "    seq_dict = dict()\n",
    "    \n",
    "    pieces = txt.split('\\n')\n",
    "    # For every song in the string, which are separated by '\\n'\n",
    "    for piece in pieces:\n",
    "        roman_numerals = piece.split(',')\n",
    "        # For every sequence of n roman numerals\n",
    "        for i in range(len(roman_numerals) - n):\n",
    "            seq = tuple(roman_numerals[i:i+n])\n",
    "            # Increment the count for this specific sequence\n",
    "            seq_dict[seq] = seq_dict.get(seq, 0) + 1\n",
    "    return seq_dict            "
   ]
  },
  {
   "cell_type": "code",
   "execution_count": 2,
   "metadata": {},
   "outputs": [],
   "source": [
    "# test build_n_sequence_dictionary()\n",
    "\n",
    "# The following text is the beginning of 'monteverdi/madrigal.3.1.rntxt'\n",
    "test_txt = \"vi,V,I,IV,I,V,V,i,V,i,VI,V,i,V,i,i,i,I,IV,ii,vii,I,vi,I,I,IV,vii\"\n",
    "seq_dict = build_n_sequence_dictionary(2, test_txt)\n",
    "\n",
    "# Show the most frequently found chord progressions of length 2\n",
    "print(sorted(seq_dict.items(), key=lambda kv:(-kv[1], kv[0]))[:5])"
   ]
  },
  {
   "cell_type": "markdown",
   "metadata": {},
   "source": [
    "## Loading the Datasets  <a name=\"loading-datasets\"></a>\n",
    "\n",
    "The next helper function will load the datasets that are generated from the `List Generator` Jupyter notebook. Given the desired composer and whether or not we want to use the dataset that encodes inversions, this method will return the contents of the respective file. "
   ]
  },
  {
   "cell_type": "code",
   "execution_count": 3,
   "metadata": {},
   "outputs": [],
   "source": [
    "def get_dataset(composer: str, with_inversions=False) -> str:\n",
    "    '''\n",
    "    Returns the content of the txt file for the composer's repertoire\n",
    "    \n",
    "    Parameters\n",
    "    ----------\n",
    "    composer : str\n",
    "        The composer which has been encoded\n",
    "    with_inversion : bool, optional\n",
    "        Whether to fetch the dataset with or without inversions\n",
    "        (default is False for no inversions)\n",
    "    \n",
    "    Returns\n",
    "    -------\n",
    "    str\n",
    "        A comma-separated string encoding the composer's repertoire\n",
    "    '''\n",
    "    \n",
    "    file_location = \"datasets/{}-dataset-{}.txt\".format(\n",
    "        \"inv\" if with_inversions else \"simple\", \n",
    "        composer)\n",
    "    try:\n",
    "        return open(file_location, \"r\").read()\n",
    "    except FileNotFoundError:\n",
    "        raise NotImplementedError(\"The composer you've entered is not in the database.\")"
   ]
  },
  {
   "cell_type": "markdown",
   "metadata": {},
   "source": [
    "# Method 1 - Counting and getting an overall percentage <a class=\"anchor\" name=\"method-1\"></a>\n",
    "\n",
    "The first method we implemented would look at the entire chord progression the user would provide and count the number of occurrences of the full progression occurs in the specified composer's repertoire.\n",
    "\n",
    "\n",
    "To interpret this as a preference, we count the total number of `n`-long chords in the composer's repertoire, where `n` is the number of chords in the user's chord progression. Then, we count the number of times that the user's provided chord progression occurs in the composer's repertoire. Finally, we divide the latter by the former to get a fraction we interpret as the preference of the user's full chord progression to others of the same length. The image below illustrates this calculation.\n",
    "\n",
    "<img src=\"images/method-1.svg\" width=\"400px\"></img>"
   ]
  },
  {
   "cell_type": "code",
   "execution_count": 4,
   "metadata": {},
   "outputs": [],
   "source": [
    "def progression_count_and_percent(prog: str, composer: str, with_inversions=False, verbose=False) -> (int, int):\n",
    "    '''\n",
    "    Returns a tuple with the number of times the given progression is used, and \n",
    "    the percentage used over other progressions of the same length\n",
    "    \n",
    "    Parameters\n",
    "    ----------\n",
    "    prog : str\n",
    "        a chord progression formatted as roman numerals separated by commas\n",
    "    composer : str\n",
    "        the last name of the composer to reference\n",
    "    with_inversions : bool, optional\n",
    "        False for no inversions, True for inversions (default False)\n",
    "    verbose : bool, optional\n",
    "        True to print the information in readable format (default False)\n",
    "        \n",
    "    Returns\n",
    "    -------\n",
    "    int\n",
    "        number of occurances of the given progression\n",
    "    int \n",
    "        fraction of times this progression was used over others of the same length\n",
    "    '''\n",
    "    # removes any whitespace\n",
    "    prog = prog.replace(' ', '')\n",
    "\n",
    "    txt = get_dataset(composer, with_inversions)\n",
    "        \n",
    "    # creates the dictionary given the progression\n",
    "    prog_list = tuple(prog.split(','))\n",
    "    seq_dict = build_n_sequence_dictionary(len(prog_list), txt)\n",
    "    total_progs = sum(seq_dict.values())\n",
    "    num_times = seq_dict.get(prog_list, 0)\n",
    "    print(total_progs)\n",
    "    # Prints the information in a readable format before returning the values\n",
    "    if verbose:\n",
    "        if num_times == 0:\n",
    "            print('{} never uses [{}] in their repertoire.'.format(composer, prog))\n",
    "        elif num_times == 1:\n",
    "            print('{} uses [{}] {} time in their repertoire.'.format(composer, prog, num_times))\n",
    "        else: \n",
    "            print('{} uses [{}] {} times in their repertoire.'.format(composer, prog, num_times))\n",
    "        print('Compared to other length-{} progressions, [{}] is used {:.2f}% of the time.'.format(len(prog_list), prog, num_times/total_progs*100))\n",
    "        \n",
    "    return num_times, num_times/total_progs"
   ]
  },
  {
   "cell_type": "code",
   "execution_count": 5,
   "metadata": {},
   "outputs": [
    {
     "name": "stdout",
     "output_type": "stream",
     "text": [
      "Test Without Inversions\n",
      "6613\n",
      "monteverdi uses [V,I] 446 times in their repertoire.\n",
      "Compared to other length-2 progressions, [V,I] is used 6.74% of the time.\n",
      "(446, 0.06744291546952971)\n",
      "\n",
      "Test With Inversions\n",
      "6613\n",
      "monteverdi uses [V(0),I(0)] 312 times in their repertoire.\n",
      "Compared to other length-2 progressions, [V(0),I(0)] is used 4.72% of the time.\n",
      "(312, 0.04717979736881899)\n"
     ]
    }
   ],
   "source": [
    "# test without inversion\n",
    "print(\"Test Without Inversions\")\n",
    "prog = 'V,I'\n",
    "print(progression_count_and_percent(prog, 'monteverdi', verbose=True))\n",
    "\n",
    "# test with inversion\n",
    "print(\"\\nTest With Inversions\")\n",
    "prog = 'V(0),I(0)'\n",
    "print(progression_count_and_percent(prog, 'monteverdi', with_inversions=True, verbose=True))"
   ]
  },
  {
   "cell_type": "markdown",
   "metadata": {},
   "source": [
    "### Problems with Method 1 <a name=\"method-1-problems\"></a>\n",
    "\n",
    "First, this approach cannot tell us which part of the chord progression was the least like work made by the composer. At worst, it simply tells the user whether it even appears in the composer's repertoire at all.\n",
    "\n",
    "Second, the choice to divide the number of occurrences by the number of chords of the same length is arbitrary. For a large enough data-set, this would simply be dividing the number of occurrences by the number of chords in the composers repertoire, and thus the score does not is not of much substance.\n",
    "\n",
    "Finally, the key issue with the first option is that if the length of the user's repertoire is too long, or if it doesn't appear in the composer's repertoire, then it is considered impossible."
   ]
  },
  {
   "cell_type": "markdown",
   "metadata": {},
   "source": [
    "# Method 2 - Provide Frequency with Full Context <a class=\"anchor\" name=\"method-2\"></a>\n",
    "\n",
    "To address the first issue with Method 1 where the analysis method does not tell the user which part of the chord progression contributes to being more or less similar to the given composer, we will use a method that interprets frequencies we gather when counting as probabilities. We will be returning a list of numbers, which tells us how often the composer follows a given sequence of chords by the next chord. In otherwords, what is the probability of the first `i` chords being followed by the `ith` chord.\n",
    "\n",
    "Below is an example illustrating the probability that the progression `[V,I]` is followed by the chord `[IV]`.\n",
    "\n",
    "<img src=\"images/method-2-calculation.svg\" width=\"400px\"/>\n",
    "\n",
    "Additionally, this method fixes starting position of the context to the beginning of the user's provided chord progression. Below illustrates this process and the list that is returned by method 2.\n",
    "\n",
    "<img src=\"images/method-2-process.svg\" width=\"400px\"/>"
   ]
  },
  {
   "cell_type": "code",
   "execution_count": 6,
   "metadata": {},
   "outputs": [],
   "source": [
    "def progression_probability(prog: str, composer: str, with_inversions=False, verbose=False) -> float:\n",
    "    '''\n",
    "    Returns a list of frequencies for substrings of the progression fixed to the beginning\n",
    "\n",
    "        Given a chord progression as a string of roman numerals separated by \n",
    "    commas (followed by perentheses containing inversion number if the parameter \n",
    "    with_inversions=True), and a composer's last name, returns a list containing\n",
    "    the probability that the i-th chrd in the progression follows the i-1 chords\n",
    "    that precede it using it's frequency in the given composer's repertoire.\n",
    "        If verbose is true, prints the information in readable format to the \n",
    "    console in addition to returning the list of frequencies\n",
    "    \n",
    "    Parameters\n",
    "    ----------\n",
    "    prog : str\n",
    "        a chord progression formatted as roman numerals separated by commas\n",
    "    composer : str\n",
    "        the last name of the composer to reference\n",
    "    with_inversions : bool, optional\n",
    "        False for no inversions, True for inversions (default False)\n",
    "    verbose : bool, optional\n",
    "        True to print the information in readable format (default False)\n",
    "\n",
    "    Returns\n",
    "    -------\n",
    "    float[]\n",
    "        A list of frequencies of the i-th chrd in the progression is followed by\n",
    "        the i-1 chords in the composer's encoded repertoire\n",
    "    '''\n",
    "    # removes any whitespace\n",
    "    prog = prog.replace(' ', '')\n",
    "    \n",
    "    txt = get_dataset(composer, with_inversions)    \n",
    "    \n",
    "    prog_prob = [] # empty list to contain tuples of chord progression and probabilities\n",
    "    prog_list = tuple(prog.split(','))\n",
    "    # creates the dictionary given the progression\n",
    "    seq_dict = build_n_sequence_dictionary(len(prog_list), txt) \n",
    "    \n",
    "    # values to be modified as i-1 chords in progression are given\n",
    "    total_progs = sum(seq_dict.values())\n",
    "    chords_to_check = seq_dict.keys()\n",
    "    \n",
    "    # flag used when progression is not used in repertoire\n",
    "    shortcut = False\n",
    "    \n",
    "    for i in range(len(prog_list)):\n",
    "        if shortcut:\n",
    "            prog_prob.append((prog_list[:i+1], 0.))\n",
    "            continue\n",
    "            \n",
    "        same_start_chords = list(filter(lambda a: (a[:i+1] == prog_list[:i+1]), chords_to_check))\n",
    "        \n",
    "        # count number of same_start_chords in repertoire\n",
    "        progs = 0\n",
    "        for chord in same_start_chords:\n",
    "            progs += seq_dict[chord]\n",
    "        if progs == 0:\n",
    "            # shows actual chords that follow\n",
    "            shortcut = True\n",
    "        \n",
    "        # add probability to list\n",
    "        prog_prob.append((prog_list[:i+1], progs/total_progs))\n",
    "        # update values assuming i-1 chords are given\n",
    "        total_progs = progs\n",
    "        chords_to_check = same_start_chords\n",
    "    \n",
    "    if verbose:\n",
    "        # msg for first chord in progression\n",
    "        print('{} starts a progression with [{}] {:.2f}% of the time'.format(\n",
    "            composer, prog_list[0], prog_prob[0][1]*100))\n",
    "        # msg for the rest of the chords\n",
    "        for i in range(1, len(prog_list)):\n",
    "            # formats the preceding chords as a comma separated string\n",
    "            preceding_chords = ','.join([chord for chord in prog_list[:i]])\n",
    "            print('{} follows [{}] with [{}] {:.2f}% of the time'.format(\n",
    "                composer, preceding_chords, prog_list[i], prog_prob[i][1]*100))\n",
    "    return prog_prob"
   ]
  },
  {
   "cell_type": "code",
   "execution_count": 7,
   "metadata": {},
   "outputs": [
    {
     "name": "stdout",
     "output_type": "stream",
     "text": [
      "monteverdi starts a progression with [V] 22.73% of the time\n",
      "monteverdi follows [V] with [I] 30.12% of the time\n",
      "monteverdi follows [V,I] with [IV] 14.19% of the time\n",
      "monteverdi follows [V,I,IV] with [V] 29.03% of the time\n",
      "monteverdi follows [V,I,IV,V] with [vi] 11.11% of the time\n",
      "monteverdi follows [V,I,IV,V,vi] with [iii] 50.00% of the time\n",
      "monteverdi follows [V,I,IV,V,vi,iii] with [V] 0.00% of the time\n",
      "[(('V',), 0.2273225755914147), (('V', 'I'), 0.30117160578911095), (('V', 'I', 'IV'), 0.14187643020594964), (('V', 'I', 'IV', 'V'), 0.2903225806451613), (('V', 'I', 'IV', 'V', 'vi'), 0.1111111111111111), (('V', 'I', 'IV', 'V', 'vi', 'iii'), 0.5), (('V', 'I', 'IV', 'V', 'vi', 'iii', 'V'), 0.0)]\n"
     ]
    }
   ],
   "source": [
    "# test without inversion\n",
    "prog = 'V,I,IV,V,vi,iii,V'\n",
    "print(progression_probability(prog, 'monteverdi', verbose=True))"
   ]
  },
  {
   "cell_type": "code",
   "execution_count": 8,
   "metadata": {
    "scrolled": true
   },
   "outputs": [
    {
     "name": "stdout",
     "output_type": "stream",
     "text": [
      "monteverdi starts a progression with [V(0)] 19.96% of the time\n",
      "monteverdi follows [V(0)] with [I(0)] 23.64% of the time\n",
      "[(('V(0)',), 0.1996068350219265), (('V(0)', 'I(0)'), 0.23636363636363636)]\n"
     ]
    }
   ],
   "source": [
    "# test with inversion\n",
    "prog = 'V(0),I(0)'\n",
    "print(progression_probability(prog, 'monteverdi', with_inversions=True, verbose=True))"
   ]
  },
  {
   "cell_type": "markdown",
   "metadata": {},
   "source": [
    "### Problems with Method 2 <a name=\"method-2-problems\"></a>\n",
    "\n",
    "The largest problem with this method is that for a long enough chord progression would always approach a score of 0%. Because the end result that we wanted was an algorithm that would score how well a given chord progression resembles the work of a composer, this wasn't going to fly. \n",
    "\n",
    "We needed an approach that wouldn't look back as far as this algorithm would, which leads us to the third and final method for our project."
   ]
  },
  {
   "cell_type": "markdown",
   "metadata": {},
   "source": [
    "#  Method 3 - Sliding Kernel <a class=\"anchor\" name=\"method-3\"></a>\n",
    "\n",
    "The final method that we implemented was a sliding kernel. Rather than fixing the context's start position and varying the length of the context being used, we will fix the length of the context and vary the starting position of the calculation. This approach resembles a 1-dimensional kernel being applied to the user's chord progression. Below is an illustration that shows this process.\n",
    "\n",
    "<img src=\"images/method-3-kernel.svg\" width=\"400px\"/>\n",
    "\n",
    "This sliding kernel is also a step towards addressing the problem of translational invariance. The likelihood that the composer follows VI with a IV does not largely vary based on all of the chords which precede.\n",
    "\n",
    "Finally, to draw conclusions using the data from this method, we find the minimum output of the kernel. If the this value is below some arbirtrary threshold, we highlight this portion of the progression and suggest that the user reconsider this portion of their chord progression to increase similarity with the composer.\n",
    "\n",
    "<img src=\"images/method-3-conclusions.svg\" width=\"400px\"/>\n",
    "\n",
    "In the final application, we set the arbitrary threshold to `5%` or `0.05`. Thus, the final application would rate that this progression as somewhat similar to Monteverdi's repertoire."
   ]
  },
  {
   "cell_type": "code",
   "execution_count": 9,
   "metadata": {},
   "outputs": [],
   "source": [
    "\n",
    "def progression_kernel(prog: str, composer: str, with_inversions=False, look_back=2, verbose=False):\n",
    "    '''\n",
    "    Returns a list of frequencies of subsets of the progression of fixed length\n",
    "\n",
    "        Given a progression as a comma-separated string of chords (followed by\n",
    "    parentheses with the inversion number if the parameter with_inversions=True),\n",
    "    a composer's last name, and the number of chords to serve as the context of\n",
    "    the kernel, we apply the sliding kernel to determine the likelihood that the\n",
    "    composer follows a sequence of chords with the same chord in the given\n",
    "    progression.\n",
    "        If verbose is true, prints the information in readable format to the\n",
    "    console in addition to returning the list of frequencies.\n",
    "\n",
    "    Parameters\n",
    "    ----------\n",
    "    prog : str\n",
    "        a chord progression formatted as roman numerals separated by commas\n",
    "    composer : str\n",
    "        the last name of the composer to reference\n",
    "    with_inversions : bool, optional\n",
    "        False for no inversions, True for inversions (default False)\n",
    "    look_back : int, optional\n",
    "        (At least 1) The number of chords to serve as the context (default 2)\n",
    "    verbose : bool, optional\n",
    "        True to print the information in readable format (default False)\n",
    "\n",
    "    Returns\n",
    "    -------\n",
    "    float[]\n",
    "        A list of the frequencies for each application of the kernel\n",
    "    '''\n",
    "    percentages = []\n",
    "\n",
    "    # removes any whitespace\n",
    "    prog = prog.replace(' ', '')\n",
    "\n",
    "    txt = get_dataset(composer, with_inversions)\n",
    "\n",
    "    # creates the dictionary given the progression\n",
    "    prog_list = tuple(prog.split(','))\n",
    "\n",
    "    if verbose:\n",
    "        print(\"Analyzing progression: [{}]\".format(prog))\n",
    "\n",
    "    look_back_dict = build_n_sequence_dictionary(look_back, txt)\n",
    "\n",
    "    seq_dict = build_n_sequence_dictionary(look_back + 1, txt)\n",
    "\n",
    "    # For every look_back + 1 sequence in the progression\n",
    "    for i in range(len(prog_list)-look_back):\n",
    "\n",
    "        # Total Occurances of look_back\n",
    "        look_back_occurances = look_back_dict.get((prog_list[i:i+look_back]),0)\n",
    "        # Num Occurances look back is followed by the next chord\n",
    "        look_back_with_next_chord = seq_dict.get(prog_list[i:i+look_back+1], 0)\n",
    "\n",
    "        # Calculate the frequency that a chord follows the n previous\n",
    "        if look_back_occurances == 0:\n",
    "            prog_percent = 0\n",
    "        else:\n",
    "            prog_percent = look_back_with_next_chord / look_back_occurances\n",
    "\n",
    "        percentages.append(prog_percent)\n",
    "\n",
    "        if verbose:\n",
    "            print(\"{} follows [{}] with [{}] {:.2f}% of the time\".format(\n",
    "                composer,\n",
    "                \",\".join(prog_list[i:i+look_back]),\n",
    "                prog_list[i+look_back],\n",
    "                prog_percent * 100))\n",
    "\n",
    "    return percentages"
   ]
  },
  {
   "cell_type": "code",
   "execution_count": 10,
   "metadata": {},
   "outputs": [
    {
     "name": "stdout",
     "output_type": "stream",
     "text": [
      "--  Example 1\n",
      "Analyzing progression: [V,I,IV,V,vi,iii,V]\n",
      "monteverdi follows [V,I] with [IV] 14.13% of the time\n",
      "monteverdi follows [I,IV] with [V] 20.83% of the time\n",
      "monteverdi follows [IV,V] with [vi] 7.34% of the time\n",
      "monteverdi follows [V,vi] with [iii] 8.70% of the time\n",
      "monteverdi follows [vi,iii] with [V] 9.09% of the time\n",
      "[0.1412556053811659, 0.20833333333333334, 0.07339449541284404, 0.08695652173913043, 0.09090909090909091]\n",
      "\n",
      "--  Example 2\n",
      "Analyzing progression: [V,iii,iv,V,VI,I,V]\n",
      "monteverdi follows [V,iii] with [iv] 0.00% of the time\n",
      "monteverdi follows [iii,iv] with [V] 100.00% of the time\n",
      "monteverdi follows [iv,V] with [VI] 0.00% of the time\n",
      "monteverdi follows [V,VI] with [I] 0.00% of the time\n",
      "monteverdi follows [VI,I] with [V] 28.57% of the time\n",
      "[0.0, 1.0, 0.0, 0.0, 0.2857142857142857]\n"
     ]
    }
   ],
   "source": [
    "print(\"--  Example 1\")\n",
    "print(progression_kernel('V,I,IV,V,vi,iii,V', \"monteverdi\",look_back=2,verbose=True))\n",
    "\n",
    "print(\"\\n--  Example 2\")\n",
    "print(progression_kernel('V,I,IV,V,vi,iii,V'[::-1], \"monteverdi\",look_back=2,verbose=True))"
   ]
  },
  {
   "cell_type": "markdown",
   "metadata": {},
   "source": [
    "### Problems with Method 3 <a name=\"method-3-problems\"></a>\n",
    "\n",
    "The main problem with this method is the assumption that frequencies in the repertoire will closely reflect the probability that the given composer will follow some phrase with the next chord.\n",
    "\n",
    "Additionally, it would be worth taking into account the location of the chord in the overall song. This way, we can account for the timing of chord progressions."
   ]
  },
  {
   "cell_type": "markdown",
   "metadata": {},
   "source": [
    "# Example Likelihood Analysis <a name=\"example\"></a>\n",
    "\n",
    "The basics of this analysis is to look at the list of frequencies that are given by the kernel method above. If any part of the progression is below some arbitrary threshold, `progression_likelihood` says that the progression is unlikely. If all parts of the progression is above a different threshold, it says the progression is fairly likely. Otherwise, it says that it cannot give a strong opinion one way or the other. "
   ]
  },
  {
   "cell_type": "code",
   "execution_count": 11,
   "metadata": {},
   "outputs": [],
   "source": [
    "def progression_likelihood (prog: str, composer: str, with_inversions=False, look_back=2):\n",
    "    \n",
    "    # Arbitrary Thresholds\n",
    "    unlikely_threshold = 0.1\n",
    "    likely_threshold = 0.4\n",
    "    # Saves the list of frequencies given by the kernel method above\n",
    "    frequencies = progression_kernel(prog, composer, with_inversions=with_inversions,look_back=look_back, verbose=True)\n",
    "    \n",
    "    print(\"\\nThe following are places in your progression which are particularly unlikely:\")\n",
    "\n",
    "    split_progression = prog.split(\",\")\n",
    "\n",
    "    for i in range(len(frequencies)):\n",
    "        frequency = frequencies[i]\n",
    "\n",
    "        if frequency < 0.05:\n",
    "            bad_prog = \",\".join(split_progression[i:i+look_back+1])\n",
    "            print (\"  Consider looking at the progression: [{}]\".format(bad_prog))\n",
    "            print (\"    {} doesn't follow [{}] with [{}] very often.\"\n",
    "                .format(composer, \",\".join(split_progression[i:i+look_back]), split_progression[i+look_back]))"
   ]
  },
  {
   "cell_type": "code",
   "execution_count": 12,
   "metadata": {},
   "outputs": [
    {
     "name": "stdout",
     "output_type": "stream",
     "text": [
      "Progression?V,I,IV,V,vi,iii,V\n",
      "\n",
      "Analyzing progression: [V,I,IV,V,vi,iii,V]\n",
      "monteverdi follows [V,I] with [IV] 14.13% of the time\n",
      "monteverdi follows [I,IV] with [V] 20.83% of the time\n",
      "monteverdi follows [IV,V] with [vi] 7.34% of the time\n",
      "monteverdi follows [V,vi] with [iii] 8.70% of the time\n",
      "monteverdi follows [vi,iii] with [V] 9.09% of the time\n",
      "\n",
      "The following are places in your progression which are particularly unlikely:\n"
     ]
    }
   ],
   "source": [
    "prog = input(\"Progression?\")\n",
    "\n",
    "print(\"\")\n",
    "\n",
    "progression_likelihood(prog, \"monteverdi\", with_inversions=False,look_back=2)"
   ]
  },
  {
   "cell_type": "code",
   "execution_count": 13,
   "metadata": {},
   "outputs": [],
   "source": [
    "#eof"
   ]
  }
 ],
 "metadata": {
  "kernelspec": {
   "display_name": "Python 3",
   "language": "python",
   "name": "python3"
  },
  "language_info": {
   "codemirror_mode": {
    "name": "ipython",
    "version": 3
   },
   "file_extension": ".py",
   "mimetype": "text/x-python",
   "name": "python",
   "nbconvert_exporter": "python",
   "pygments_lexer": "ipython3",
   "version": "3.7.5"
  }
 },
 "nbformat": 4,
 "nbformat_minor": 4
}
