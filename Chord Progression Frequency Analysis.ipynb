{
 "cells": [
  {
   "cell_type": "markdown",
   "metadata": {},
   "source": [
    "# Chord Progression Frequency Analysis\n",
    "This python notebook will look into the frequency of chord progressions in a composer's repertoire.\n",
    "\n",
    "## Sequence Dictionary\n",
    "The first step is to determine the frequency of an n-long sequence in a text file formatted as in the List Generator notebook."
   ]
  },
  {
   "cell_type": "code",
   "execution_count": 25,
   "metadata": {},
   "outputs": [],
   "source": [
    "def build_n_sequence_dictionary(n : int, txt : str) -> dict:\n",
    "    \"\"\"\n",
    "    Given a length n, returns a dictionary containing sequences\n",
    "    in txt of length n mapped to the number of times they appear\n",
    "    in txt.\n",
    "    \"\"\"\n",
    "    seq_dict = dict()\n",
    "    \n",
    "    blocks = txt.split('\\n')\n",
    "    for block in blocks:\n",
    "        elems = block.split(',')\n",
    "        for i in range(len(elems) - n):\n",
    "            seq = elems[i:i+n]\n",
    "            seq_dict[tuple(seq)] = seq_dict.get(tuple(seq), 0) + 1\n",
    "            \n",
    "    return seq_dict            "
   ]
  },
  {
   "cell_type": "code",
   "execution_count": 30,
   "metadata": {},
   "outputs": [
    {
     "name": "stdout",
     "output_type": "stream",
     "text": [
      "[(('V', 'i', 'V'), 16), (('i', 'V', 'i'), 12), (('i', 'V', 'I'), 8), (('ii', 'V', 'I'), 7), (('V', 'I', 'I'), 6), (('i', 'i', 'i'), 5), (('V', 'V', 'i'), 5), (('V', 'I', 'V'), 5), (('ii', 'I', 'ii'), 4), (('I', 'vi', 'V'), 4), (('I', 'ii', 'V'), 4), (('I', 'ii', 'I'), 4), (('I', 'V', 'V'), 4), (('ii', 'V', 'i'), 3), (('V', 'i', 'i'), 3), (('V', 'I', 'ii'), 3), (('V', 'I', 'i'), 3), (('V', 'I', 'IV'), 3), (('I', 'IV', 'ii'), 3), (('I', 'I', 'vi'), 3), (('vii', 'I', 'vi'), 2), (('vi', 'ii', 'V'), 2), (('vi', 'V', 'vi'), 2), (('vi', 'V', 'I'), 2), (('v', 'i', 'V'), 2), (('i', 'ii', 'V'), 2), (('i', 'i', 'V'), 2), (('i', 'VII', 'v'), 2), (('i', 'V', 'V'), 2), (('i', 'I', 'IV'), 2), (('V', 'vi', 'i'), 2), (('V', 'vi', 'V'), 2), (('V', 'i', 'VII'), 2), (('V', 'V', 'ii'), 2), (('V', 'I', 'vi'), 2), (('IV', 'ii', 'vii'), 2), (('IV', 'ii', 'V'), 2), (('IV', 'V', 'I'), 2), (('IV', 'IV', 'I'), 2), (('II', 'V', 'I'), 2), (('I', 'vii', 'I'), 2), (('I', 'vi', 'vi'), 2), (('I', 'i', 'i'), 2), (('I', 'i', 'V'), 2), (('I', 'V', 'vi'), 2), (('I', 'IV', 'V'), 2), (('I', 'IV', 'IV'), 2), (('I', 'I', 'V'), 2), (('I', 'I', 'IV'), 2), (('vii', 'iii', 'IV'), 1), (('vii', 'i', 'i'), 1), (('vii', 'V', 'i'), 1), (('vii', 'I', 'V'), 1), (('vii', 'I', 'I'), 1), (('vi', 'vi', 'II'), 1), (('vi', 'vi', 'I'), 1), (('vi', 'iii', 'i'), 1), (('vi', 'ii', 'I'), 1), (('vi', 'i', 'i'), 1), (('vi', 'i', 'V'), 1), (('vi', 'V', 'i'), 1), (('vi', 'V', 'IV'), 1), (('vi', 'V', 'II'), 1), (('vi', 'IV', 'V'), 1), (('vi', 'II', 'V'), 1), (('vi', 'I', 'IV'), 1), (('vi', 'I', 'I'), 1), (('v', 'iv', 'III'), 1), (('v', 'IV', 'i'), 1), (('v', 'IV', 'III'), 1), (('iv', 'iv', 'III'), 1), (('iv', 'VI', 'i'), 1), (('iv', 'V', 'V'), 1), (('iv', 'III', 'iv'), 1), (('iv', 'III', 'I'), 1), (('iii', 'vi', 'ii'), 1), (('iii', 'i', 'V'), 1), (('iii', 'IV', 'V'), 1), (('ii', 'vii', 'V'), 1), (('ii', 'vii', 'I'), 1), (('ii', 'vi', 'IV'), 1), (('ii', 'v', 'i'), 1), (('ii', 'ii', 'vi'), 1), (('ii', 'VI', 'VI'), 1), (('ii', 'V', 'IV'), 1), (('ii', 'I', 'IV'), 1), (('i', 'vii', 'i'), 1), (('i', 'v', 'IV'), 1), (('i', 'i', 'v'), 1), (('i', 'i', 'ii'), 1), (('i', 'i', 'VII'), 1), (('i', 'i', 'II'), 1), (('i', 'i', 'I'), 1), (('i', 'VII', 'VII'), 1), (('i', 'VI', 'V'), 1), (('i', 'V', 'vi'), 1), (('i', 'V', 'iii'), 1), (('i', 'II', 'III'), 1), (('VII', 'v', 'iv'), 1), (('VII', 'v', 'i'), 1), (('VII', 'iv', 'VI'), 1), (('VII', 'VII', 'iv'), 1), (('VI', 'iv', 'V'), 1), (('VI', 'i', 'V'), 1), (('VI', 'VI', 'iv'), 1), (('VI', 'V', 'i'), 1), (('V', 'vi', 'iii'), 1), (('V', 'vi', 'ii'), 1), (('V', 'iii', 'vi'), 1), (('V', 'ii', 'ii'), 1), (('V', 'ii', 'VI'), 1), (('V', 'ii', 'V'), 1), (('V', 'i', 'ii'), 1), (('V', 'i', 'VI'), 1), (('V', 'i', 'I'), 1), (('V', 'V', 'V'), 1), (('V', 'V', 'I'), 1), (('V', 'IV', 'vii'), 1), (('V', 'IV', 'ii'), 1), (('V', 'IV', 'I'), 1), (('V', 'II', 'V'), 1), (('V', 'I', 'vii'), 1), (('IV', 'vii', 'iii'), 1), (('IV', 'vii', 'I'), 1), (('IV', 'i', 'vii'), 1), (('IV', 'V', 'vi'), 1), (('IV', 'V', 'V'), 1), (('IV', 'III', 'V'), 1), (('IV', 'I', 'vi'), 1), (('IV', 'I', 'ii'), 1), (('IV', 'I', 'V'), 1), (('IV', 'I', 'I'), 1), (('III', 'v', 'IV'), 1), (('III', 'iv', 'iv'), 1), (('III', 'V', 'i'), 1), (('III', 'I', 'ii'), 1), (('II', 'III', 'v'), 1), (('I', 'vi', 'ii'), 1), (('I', 'vi', 'I'), 1), (('I', 'ii', 'v'), 1), (('I', 'V', 'ii'), 1), (('I', 'V', 'IV'), 1), (('I', 'V', 'I'), 1), (('I', 'IV', 'vii'), 1), (('I', 'IV', 'I'), 1), (('I', 'I', 'vii'), 1), (('I', 'I', 'i'), 1)]\n"
     ]
    }
   ],
   "source": [
    "# test build_n_sequence_dictionary()\n",
    "\n",
    "# The following text represents corpus.parse('monteverdi/madrigal.3.1.rntxt')\n",
    "test_txt = \"vi,V,I,IV,I,V,V,i,V,i,VI,V,i,V,i,i,i,I,IV,ii,vii,I,vi,I,I,IV,vii,I,vi,vi,I,IV,IV,I,I,IV,ii,V,I,V,V,ii,ii,vi,IV,V,I,I,V,V,ii,VI,VI,iv,V,V,i,V,I,V,IV,I,vi,V,I,I,i,i,VII,VII,iv,VI,i,V,i,ii,V,I,vi,V,vi,V,vi,i,V,I,V,ii,V,I,V,vi,i,i,V,i,V,I,i,V,i,V,i,V,I,ii,I,ii,V,I,I,vi,V,II,V,I,IV,ii,vii,V,i,V,I,i,V,i,V,I,ii,I,ii,V,I,ii,I,ii,V,I,I,vi,vi,II,V,I,vi,V,i,V,I,i,i,i,i,i,ii,V,i,V,i,i,i,v,IV,III,V,i,V,i,i,II,III,v,IV,i,vii,i,i,V,V,V,I,vii,I,I,vii,I,V,V,i,VII,v,i,V,V,i,V,I,I,V,vi,V,IV,ii,V,i,V,i,I,IV,IV,I,ii,I,ii,V,i,V,i,V,vi,ii,V,IV,vii,iii,IV,V,V,i,V,iii,vi,ii,V,I,I,vi,ii,I,IV,V,I,V,I,IV,V,vi,iii,i,V,i,VII,v,iv,III,iv,iv,III,I,ii,v,i,V,I\"\n",
    "\n",
    "seq_dict = build_n_sequence_dictionary(3, test_txt)\n",
    "# print(seq_dict)\n",
    "print(sorted(seq_dict.items(), key=lambda kv:(kv[1], kv[0]), reverse=True))"
   ]
  },
  {
   "cell_type": "markdown",
   "metadata": {},
   "source": [
    "## Using the Datasets"
   ]
  },
  {
   "cell_type": "code",
   "execution_count": 33,
   "metadata": {},
   "outputs": [],
   "source": [
    "def get_dataset(composer: str, with_inversions=False) -> str:\n",
    "    '''\n",
    "    Given a composer and a flag for inversions, returns the correct\n",
    "    dataset containing the composer's repertoire as a string.\n",
    "    \n",
    "    If with_inversions is True, the dataset returned will contain\n",
    "    inversions as (0), (1), etc. after each roman numeral, where\n",
    "    (0) is the root position.\n",
    "    '''\n",
    "    if composer == 'bach':\n",
    "        if with_inversions:\n",
    "            return open(\"inv-dataset-bach.txt\",\"r\").read()\n",
    "        else:\n",
    "            return open(\"simple-dataset-bach.txt\",\"r\").read()\n",
    "    elif composer == 'monteverdi':\n",
    "        if with_inversions:\n",
    "            return open(\"inv-dataset-monteverdi.txt\",\"r\").read()\n",
    "        else:\n",
    "            return open(\"simple-dataset-monteverdi.txt\",\"r\").read()\n",
    "    else:\n",
    "        raise NotImplementedError(\"The composer you've entered is not in the database.\")"
   ]
  },
  {
   "cell_type": "markdown",
   "metadata": {},
   "source": [
    "### Method 1 - Counting and getting an overall percentage\n",
    "For this function, we count the number of times the given progression appears in the composer's repertoire and calculate a percentage based on all n-long chord progressions used in their repertoire."
   ]
  },
  {
   "cell_type": "code",
   "execution_count": 44,
   "metadata": {},
   "outputs": [],
   "source": [
    "def progression_count_and_percent(prog: str, composer: str, with_inversions=False, as_msg=False):\n",
    "    '''\n",
    "    Given a chord progression formatted as roman numerals separated by commas\n",
    "    (if with_inversions=True, parentheses containing the inversion number, 0 \n",
    "    being the root position, follow each roman numeral) and a composer \n",
    "    (currently 'bach' and 'monteverdi' are the only ones supported),\n",
    "    returns a tuple containing the number of times the given progression\n",
    "    appears in the composer's repertoire and the percentage used based on\n",
    "    all n-long progressions. \n",
    "    \n",
    "    If as_msg is True, returns a string containing information in English instead.\n",
    "    '''\n",
    "    # removes any whitespace\n",
    "    prog = prog.replace(' ', '')\n",
    "\n",
    "    txt = get_dataset(composer, with_inversions)\n",
    "        \n",
    "    # creates the dictionary given the progression\n",
    "    prog_list = tuple(prog.split(','))\n",
    "    seq_dict = build_n_sequence_dictionary(len(prog_list), txt)\n",
    "    total_progs = sum(seq_dict.values())\n",
    "    num_times = seq_dict.get(prog_list, 0)\n",
    "    \n",
    "    if as_msg:\n",
    "        msg = ''\n",
    "        if num_times == 0:\n",
    "            msg = composer + ' never uses [' + prog + '] in their repertoire.'\n",
    "        if num_times == 1:\n",
    "            msg = composer + ' uses [' + prog + '] ' + str(num_times) + ' time in their repertoire.\\n'\n",
    "        else: \n",
    "            msg = composer + ' uses [' + prog + '] ' + str(num_times) + ' times in their repertoire.\\n'\n",
    "        msg += 'Compared to other length-' + str(len(prog_list)) + ' progressions, [' + prog + '] is used {:.2f}'.format(num_times/total_progs*100) + '% of the time.'\n",
    "        return msg\n",
    "    return num_times, num_times/total_progs"
   ]
  },
  {
   "cell_type": "code",
   "execution_count": 45,
   "metadata": {},
   "outputs": [
    {
     "name": "stdout",
     "output_type": "stream",
     "text": [
      "monteverdi uses [V,I] 446 times in their repertoire.\n",
      "Compared to other length-2 progressions, [V,I] is used 6.74% of the time.\n"
     ]
    }
   ],
   "source": [
    "# test without inversion\n",
    "prog = 'V,I'\n",
    "print(progression_count_and_percent(prog, 'monteverdi', as_msg=True))"
   ]
  },
  {
   "cell_type": "code",
   "execution_count": 90,
   "metadata": {},
   "outputs": [
    {
     "name": "stdout",
     "output_type": "stream",
     "text": [
      "monteverdi uses [V(0),I(0)] 312 times in their repertoire.\n",
      "Compared to other length-2 progressions, [V(0),I(0)] is used 4.72% of the time.\n"
     ]
    }
   ],
   "source": [
    "# test with inversion\n",
    "prog = 'V(0),I(0)'\n",
    "print(progression_count_and_percent(prog, 'monteverdi', with_inversions=True, as_msg=True))"
   ]
  },
  {
   "cell_type": "markdown",
   "metadata": {},
   "source": [
    "### Method 2 - Provide percentages at every chord\n",
    "For this function, we output the percentage of times a composer uses each chord in the progression given the previous chords in the progression."
   ]
  },
  {
   "cell_type": "code",
   "execution_count": 87,
   "metadata": {},
   "outputs": [],
   "source": [
    "def progression_probability(prog: str, composer: str, with_inversions=False, as_msg=False):\n",
    "    '''\n",
    "    Given a chord progression formatted as roman numerals separated by commas\n",
    "    (if with_inversions=True, parentheses containing the inversion number, 0 \n",
    "    being the root inversion, follow each roman numeral) and a composer \n",
    "    (currently 'bach' and 'monteverdi' are the only ones supported),\n",
    "    returns a list containing the probability that the i-th chord in the\n",
    "    progression follows the i-1 chords that precede it using its frequency\n",
    "    in the composer's repertoire.\n",
    "    \n",
    "    If as_msg is True, returns a string containing information in English instead.\n",
    "    '''\n",
    "    # removes any whitespace\n",
    "    prog = prog.replace(' ', '')\n",
    "    \n",
    "    txt = get_dataset(composer, with_inversions)    \n",
    "    \n",
    "    prog_prob = [] # empty list to contain tuples of chord progression and probabilities\n",
    "    prog_list = tuple(prog.split(','))\n",
    "    # creates the dictionary given the progression\n",
    "    seq_dict = build_n_sequence_dictionary(len(prog_list), txt) \n",
    "    \n",
    "    # values to be modified as i-1 chords in progression are given\n",
    "    total_progs = sum(seq_dict.values())\n",
    "    chords_to_check = seq_dict.keys()\n",
    "    \n",
    "    # flag used when progression is not used in repertoire\n",
    "    shortcut = False\n",
    "    \n",
    "    for i in range(len(prog_list)):\n",
    "        if shortcut:\n",
    "            prog_prob.append((prog_list[:i+1], 0.))\n",
    "            continue\n",
    "            \n",
    "        same_start_chords = list(filter(lambda a: (a[:i+1] == prog_list[:i+1]), chords_to_check))\n",
    "        \n",
    "        # count number of same_start_chords in repertoire\n",
    "        progs = 0\n",
    "        for chord in same_start_chords:\n",
    "            progs += seq_dict[chord]\n",
    "        if progs == 0:\n",
    "#             print(chords_to_check) # shows actual chords that follow\n",
    "            shortcut = True\n",
    "        \n",
    "        # add probability to list\n",
    "        prog_prob.append((prog_list[:i+1], progs/total_progs))\n",
    "        # update values assuming i-1 chords are given\n",
    "        total_progs = progs\n",
    "        chords_to_check = same_start_chords\n",
    "    \n",
    "    if as_msg:\n",
    "        msg = ''\n",
    "        \n",
    "        # msg for first chord in progression\n",
    "        msg += composer + ' starts a progression with [' + prog_list[0] + \\\n",
    "                '] {:.2f}'.format(prog_prob[0][1]*100) + '% of the time.'\n",
    "        for i in range(1, len(prog_list)):\n",
    "            msg += '\\n' + composer + ' follows [' + ','.join([chord for chord in prog_list[:i]]) + \\\n",
    "                    '] with [' + prog_list[i] + '] {:.2f}'.format(prog_prob[i][1]*100) + '% of the time.'\n",
    "        return msg\n",
    "    return prog_prob"
   ]
  },
  {
   "cell_type": "code",
   "execution_count": 88,
   "metadata": {},
   "outputs": [
    {
     "name": "stdout",
     "output_type": "stream",
     "text": [
      "monteverdi starts a progression with [V] 22.73% of the time.\n",
      "monteverdi follows [V] with [I] 30.12% of the time.\n",
      "monteverdi follows [V,I] with [IV] 14.19% of the time.\n",
      "monteverdi follows [V,I,IV] with [V] 29.03% of the time.\n",
      "monteverdi follows [V,I,IV,V] with [vi] 11.11% of the time.\n",
      "monteverdi follows [V,I,IV,V,vi] with [iii] 50.00% of the time.\n",
      "monteverdi follows [V,I,IV,V,vi,iii] with [V] 0.00% of the time.\n"
     ]
    }
   ],
   "source": [
    "# test without inversion\n",
    "prog = 'V,I,IV,V,vi,iii,V'\n",
    "print(progression_probability(prog, 'monteverdi', as_msg=True))"
   ]
  },
  {
   "cell_type": "code",
   "execution_count": 59,
   "metadata": {},
   "outputs": [
    {
     "name": "stdout",
     "output_type": "stream",
     "text": [
      "monteverdi starts a progression with [V(0)] 19.96% of the time.\n",
      "monteverdi follows [V(0)] with [I(0)] 23.64% of the time.\n"
     ]
    }
   ],
   "source": [
    "# test with inversion\n",
    "prog = 'V(0),I(0)'\n",
    "print(progression_probability(prog, 'monteverdi', with_inversions=True, as_msg=True))"
   ]
  },
  {
   "cell_type": "markdown",
   "metadata": {},
   "source": [
    "## Stretch Goals\n",
    "* automate roman numeral analysis for music21 parseable composers\n",
    "* return locations of matching progressions in scores (highlight when .show()))"
   ]
  }
 ],
 "metadata": {
  "kernelspec": {
   "display_name": "Python 3",
   "language": "python",
   "name": "python3"
  },
  "language_info": {
   "codemirror_mode": {
    "name": "ipython",
    "version": 3
   },
   "file_extension": ".py",
   "mimetype": "text/x-python",
   "name": "python",
   "nbconvert_exporter": "python",
   "pygments_lexer": "ipython3",
   "version": "3.7.3"
  }
 },
 "nbformat": 4,
 "nbformat_minor": 4
}
