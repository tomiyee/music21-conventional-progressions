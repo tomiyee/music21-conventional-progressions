{
 "cells": [
  {
   "cell_type": "markdown",
   "metadata": {},
   "source": [
    "# List Generator\n",
    "\n",
    "This python notebook will look through corpuses that exist natively in music21. For each composer found, the code will generate a properly formatted text file containing relevant information to conduct chord phrase frequency analysis and save the dataset files to the folder `datasets`.\n",
    "\n",
    "## Text Files Structure\n",
    "\n",
    "These text files will consist of a list of roman numerals for all the pieces that have an existing `.rntxt` file under the same composer.\n",
    "\n",
    "* The characters `,` will separate data for different roman numerals in the same piece\n",
    "* The characters `\\n` will separate data for different pieces by the same composer\n",
    "\n",
    "\n",
    "## Table of Contents:\n",
    "\n",
    "* [Method 1 - Record Only Order and Roman Numeral](#method-1)\n",
    "    * [a. Listing One Song in Proper Format](#method-1-part-a)\n",
    "    * [b. Listing Multiple Songs in Proper Format](#method-1-part-b)\n",
    "    * [c. Create the File for One Composer](#method-1-part-c)\n",
    "    * [d. Create Files for Several Composers](#method-1-part-d)\n",
    "* [Method 2 - Record Inversion As Well](#method-2)\n",
    "    * [a. Listing One Song in Proper Format](#method-2-part-a)\n",
    "    * [b. Listing Multiple Songs in Proper Format](#method-2-part-b)\n",
    "    * [c. Create the File for One Composer](#method-2-part-c)\n",
    "    * [d. Create Files for Several Composers](#method-2-part-d)"
   ]
  },
  {
   "cell_type": "code",
   "execution_count": 1,
   "metadata": {},
   "outputs": [],
   "source": [
    "from music21 import corpus, stream"
   ]
  },
  {
   "cell_type": "markdown",
   "metadata": {},
   "source": [
    "# Method 1 - Record Only Order and Roman Numeral <a class=\"anchor\" name=\"method-1\"></a>\n",
    "\n",
    "In this first approach, I will be importing various corpuses from the existing music21 library which already have the roman text in them and save them to separate text files. As the title would imply, these text files will only record the relative order of these roman numerals for simplicity, and nothing more. This means we will be disregarding parts of the corpus that we may or may not wish to take into account, including duration, root note, and key changes. "
   ]
  },
  {
   "cell_type": "markdown",
   "metadata": {},
   "source": [
    "## a. Listing One Song in Proper Format <a class=\"anchor\" name=\"method-1-part-a\"></a>\n",
    "\n",
    "To begin with, I will load up a single song and generate a string with all of the roman numerals in the song. This song is selected from the music21 module reference page for the `romanText.translate`."
   ]
  },
  {
   "cell_type": "code",
   "execution_count": 2,
   "metadata": {},
   "outputs": [],
   "source": [
    "# http://web.mit.edu/music21/doc/moduleReference/moduleRomanTextTranslate.html\n",
    "monteverdi = corpus.parse('monteverdi/madrigal.3.1.rntxt')"
   ]
  },
  {
   "cell_type": "markdown",
   "metadata": {},
   "source": [
    "I loop through all elements with the \"RomanNumeral\" class and get the string that represents the roman numeral. (I currently don't know whether this would get inversions as well). It then joins all of the roman numerals with a comma, and prints. This gives a good idea of what one song will look like encoded using our idea."
   ]
  },
  {
   "cell_type": "code",
   "execution_count": 3,
   "metadata": {},
   "outputs": [
    {
     "name": "stdout",
     "output_type": "stream",
     "text": [
      "vi,V,I,IV,I,V,V,i,V,i,VI,V,i,V,i,i,i,I,IV,ii,vii,I,vi,I,I,IV,vii,I,vi,vi,I,IV,IV,I,I,IV,ii,V,I,V,V,ii,ii,vi,IV,V,I,I,V,V,ii,VI,VI,iv,V,V,i,V,I,V,IV,I,vi,V,I,I,i,i,VII,VII,iv,VI,i,V,i,ii,V,I,vi,V,vi,V,vi,i,V,I,V,ii,V,I,V,vi,i,i,V,i,V,I,i,V,i,V,i,V,I,ii,I,ii,V,I,I,vi,V,II,V,I,IV,ii,vii,V,i,V,I,i,V,i,V,I,ii,I,ii,V,I,ii,I,ii,V,I,I,vi,vi,II,V,I,vi,V,i,V,I,i,i,i,i,i,ii,V,i,V,i,i,i,v,IV,III,V,i,V,i,i,II,III,v,IV,i,#vii,i,i,V,V,V,I,#vii,I,I,#vii,I,V,V,i,VII,v,i,V,V,i,V,I,I,V,vi,V,IV,ii,V,i,V,i,I,IV,IV,I,ii,I,ii,V,i,V,i,V,vi,ii,V,IV,vii,iii,IV,V,V,i,V,iii,vi,ii,V,I,I,vi,ii,I,IV,V,I,V,I,IV,V,vi,iii,i,V,i,VII,v,iv,III,iv,iv,III,I,ii,v,i,V,I\n"
     ]
    }
   ],
   "source": [
    "monteverdi_chords = []\n",
    "for part in monteverdi.parts:\n",
    "    for roman_numerals in part.flat.getElementsByClass('RomanNumeral'):\n",
    "        monteverdi_chords.append(roman_numerals.romanNumeral)\n",
    "print(\",\".join(monteverdi_chords))"
   ]
  },
  {
   "cell_type": "markdown",
   "metadata": {},
   "source": [
    "Next, I will generalize the above algorithm to take in a song, and return a comma separated string"
   ]
  },
  {
   "cell_type": "code",
   "execution_count": 4,
   "metadata": {},
   "outputs": [],
   "source": [
    "def simple_format_score(s : stream.Score) -> str:\n",
    "    \"\"\"\n",
    "    Given a Score, generates a comma-separated string of the roman numerals in\n",
    "    order that they appear in the score.\n",
    "    \"\"\"\n",
    "    chord_order = []\n",
    "    \n",
    "    for part in s.parts:\n",
    "        for rn in part.flat.getElementsByClass('RomanNumeral'):\n",
    "            chord_order.append(rn.romanNumeral)\n",
    "    return \",\".join(chord_order)"
   ]
  },
  {
   "cell_type": "markdown",
   "metadata": {},
   "source": [
    "## (b) Listing Multiple Songs in Proper Format <a class=\"anchor\" name=\"method-1-part-b\"></a>\n",
    "\n",
    "Now that I've made a method that generates the properly formatted string for a single song, the next goal is to repeat this process for multiple songs under the same composer.\n",
    "\n",
    "One way we could do this would be to manually find the files in the composer's folder which end in `.rntxt` and loop through the list of paths. However, it would be much more convenient for the method to do this automatically, which I don't know how to do yet so I'll leave it here."
   ]
  },
  {
   "cell_type": "code",
   "execution_count": 5,
   "metadata": {},
   "outputs": [],
   "source": [
    "def simple_format_scores_for_composer (composer=\"monteverdi\"):\n",
    "    \"\"\"\n",
    "    Generates the contents of the composer's dataset, which is a concatenation\n",
    "    of the chord progressions for a specific song\n",
    "    \"\"\"\n",
    "    MAX_NUM_DOTS = 20\n",
    "    \n",
    "    # 1. Search for all files that end with rntxt\n",
    "    metadatas = corpus.search(query=composer, fileExtensions=\"rntxt\")\n",
    "    num_files = len(metadatas)\n",
    "    print(\"Number of rntxt files found:\", num_files)\n",
    "    \n",
    "    file_contents = []\n",
    "    \n",
    "    num_parsed = 0\n",
    "    for m in metadatas:\n",
    "        # Format the score and append it to a list\n",
    "        formatted_score = simple_format_score(m.parse())\n",
    "        file_contents.append( formatted_score )\n",
    "        \n",
    "        # Print Progress\n",
    "        num_parsed += 1\n",
    "        num_dots = int(num_parsed / num_files * MAX_NUM_DOTS)\n",
    "        ending = '\\r' if num_parsed != num_files else '\\n'\n",
    "        print('[' + ('.' * num_dots) + (' ' * (MAX_NUM_DOTS - num_dots)) + ']', end=ending)\n",
    "        \n",
    "    return \"\\n\".join(file_contents)"
   ]
  },
  {
   "cell_type": "markdown",
   "metadata": {},
   "source": [
    "## (c) Create the File for One Composer <a class=\"anchor\" name=\"method-1-part-c\"></a>"
   ]
  },
  {
   "cell_type": "code",
   "execution_count": 6,
   "metadata": {},
   "outputs": [],
   "source": [
    "def generate_simple_dataset (composer: str):\n",
    "    \"\"\"\n",
    "    Saves a text file with the composer's repertoire, ignoring inversions\n",
    "    \n",
    "    \n",
    "    Given the name of the composer, it will search for files in the local\n",
    "    corpus which have the file extension \".rntxt\" and generates a list of\n",
    "    formatted songs where data on each roman numeral is separated by a\n",
    "    comma, and each song is separated by a new line character '\\n'. With \n",
    "    this string, it saves the formatted string to a text file.\n",
    "    \n",
    "    Parameters\n",
    "    ----------\n",
    "    composer : str\n",
    "        The last name of the composer whose .rntxt is in music21\n",
    "    \"\"\"\n",
    "    \n",
    "    print(\"Generating Dataset for:\", composer)\n",
    "    file_contents = simple_format_scores_for_composer(composer)\n",
    "    \n",
    "    # Doesn't generate the dataset if the contents are empty\n",
    "    if len(file_contents) == '0':\n",
    "        print('Dataset empty')\n",
    "        return\n",
    "    \n",
    "    # Generates a file to save the file contents to\n",
    "    file_name = \"datasets/simple-dataset-\" + composer + \".txt\"\n",
    "    f = open(file_name,\"w+\")\n",
    "    f.write(file_contents)\n",
    "    f.close()\n",
    "    \n",
    "    # Print the location\n",
    "    print(\"Dataset written to:\", file_name, end=\"\\n\\n\")"
   ]
  },
  {
   "cell_type": "markdown",
   "metadata": {},
   "source": [
    "## (d) Create Files for Several Composers <a class=\"anchor\" name=\"method-1-part-d\"></a>"
   ]
  },
  {
   "cell_type": "code",
   "execution_count": 7,
   "metadata": {
    "scrolled": true
   },
   "outputs": [
    {
     "name": "stdout",
     "output_type": "stream",
     "text": [
      "Generating Dataset for: monteverdi\n",
      "Number of rntxt files found: 46\n",
      "[....................]\n",
      "Dataset written to: datasets/simple-dataset-monteverdi.txt\n",
      "\n",
      "Generating Dataset for: bach\n",
      "Number of rntxt files found: 20\n",
      "[....................]\n",
      "Dataset written to: datasets/simple-dataset-bach.txt\n",
      "\n"
     ]
    }
   ],
   "source": [
    "generate_simple_dataset('monteverdi')\n",
    "generate_simple_dataset('bach')"
   ]
  },
  {
   "cell_type": "markdown",
   "metadata": {},
   "source": [
    "# Method 2 - Record Order, Roman Numeral, and Inversion <a class=\"anchor\" name=\"method-2\"></a>"
   ]
  },
  {
   "cell_type": "markdown",
   "metadata": {},
   "source": [
    "## a. Listing One Song in Proper Format <a class=\"anchor\" name=\"method-2-part-a\"></a>\n",
    "\n",
    "To begin with, I will load up a single song and generate a string with all of the roman numerals in the song. This song is selected from the music21 module reference page for the `romanText.translate`."
   ]
  },
  {
   "cell_type": "code",
   "execution_count": 8,
   "metadata": {},
   "outputs": [],
   "source": [
    "# http://web.mit.edu/music21/doc/moduleReference/moduleRomanTextTranslate.html\n",
    "monteverdi = corpus.parse('monteverdi/madrigal.3.1.rntxt')"
   ]
  },
  {
   "cell_type": "markdown",
   "metadata": {},
   "source": [
    "I loop through all elements with the \"RomanNumeral\" class and get the string that represents the roman numeral.\n",
    "The new addition is that after every roman numeral is its inversion in parenthesis. For example, I in root position would be `\"I(0)\"`. It then joins all of the roman numerals with a comma, and prints. This gives a good idea of what one song will look like encoded using our idea."
   ]
  },
  {
   "cell_type": "code",
   "execution_count": 9,
   "metadata": {},
   "outputs": [
    {
     "name": "stdout",
     "output_type": "stream",
     "text": [
      "vi(0),V(0),I(0),IV(0),I(0),V(1),V(1),i(0),V(0),i(0),VI(0),V(0),i(2),V(0),i(0),i(0),i(0),I(0),IV(0),ii(0),vii(1),I(0),vi(0),I(0),I(0),IV(1),vii(1),I(0),vi(0),vi(0),I(0),IV(0),IV(0),I(0),I(0),IV(1),ii(0),V(0),I(0),V(0),V(0),ii(1),ii(0),vi(0),IV(0),V(0),I(0),I(0),V(0),V(0),ii(1),VI(0),VI(0),iv(1),V(0),V(0),i(0),V(0),I(0),V(0),IV(1),I(0),vi(0),V(0),I(0),I(0),i(0),i(0),VII(0),VII(0),iv(1),VI(0),i(2),V(0),i(0),ii(0),V(0),I(0),vi(1),V(0),vi(0),V(0),vi(1),i(0),V(0),I(0),V(0),ii(0),V(0),I(0),V(0),vi(0),i(1),i(0),V(0),i(2),V(0),I(0),i(0),V(0),i(0),V(0),i(0),V(0),I(0),ii(0),I(1),ii(1),V(0),I(0),I(0),vi(0),V(3),II(1),V(0),I(1),IV(0),ii(1),vii(1),V(0),i(2),V(0),I(0),i(0),V(0),i(0),V(0),I(0),ii(0),I(1),ii(1),V(0),I(0),ii(0),I(1),ii(1),V(0),I(0),I(0),vi(0),vi(0),II(1),V(0),I(1),vi(0),V(0),i(2),V(0),I(0),i(0),i(0),i(1),i(0),i(1),ii(1),V(0),i(2),V(0),i(0),i(0),i(0),v(1),IV(1),III(1),V(0),i(2),V(0),i(0),i(1),II(1),III(1),v(0),IV(0),i(1),#vii(1),i(0),i(0),V(0),V(1),V(0),I(1),#vii(1),I(0),I(0),#vii(1),I(1),V(0),V(0),i(0),VII(0),v(1),i(0),V(0),V(0),i(1),V(0),I(1),I(1),V(0),vi(0),V(0),IV(0),ii(1),V(0),i(2),V(0),i(0),I(0),IV(0),IV(0),I(1),ii(0),I(0),ii(0),V(0),i(2),V(0),i(0),V(0),vi(1),ii(0),V(1),IV(1),vii(1),iii(0),IV(0),V(0),V(0),i(0),V(0),iii(1),vi(0),ii(1),V(0),I(1),I(0),vi(1),ii(0),I(1),IV(0),V(0),I(0),V(0),I(1),IV(0),V(0),vi(0),iii(0),i(0),V(0),i(0),VII(0),v(1),iv(1),III(1),iv(1),iv(1),III(1),I(0),ii(1),v(0),i(2),V(0),I(0)\n"
     ]
    }
   ],
   "source": [
    "monteverdi_chords = []\n",
    "for part in monteverdi.parts:\n",
    "    for rn in part.flat.getElementsByClass('RomanNumeral'):\n",
    "        rn_data = \"{}({})\".format(rn.romanNumeral,rn.inversion())\n",
    "        monteverdi_chords.append(rn_data)\n",
    "        \n",
    "print(\",\".join(monteverdi_chords))"
   ]
  },
  {
   "cell_type": "markdown",
   "metadata": {},
   "source": [
    "Next, I will generalize the above algorithm to take in a song, and return a comma separated string"
   ]
  },
  {
   "cell_type": "code",
   "execution_count": 10,
   "metadata": {},
   "outputs": [],
   "source": [
    "def inv_format_score(s : stream.Score) -> str:\n",
    "    \"\"\"\n",
    "    Given a Score, generates a comma-separated string of the roman numerals in\n",
    "    order that they appear in the score.\n",
    "    \"\"\"\n",
    "    chord_order = []\n",
    "    \n",
    "    for part in s.parts:\n",
    "        for rn in part.flat.getElementsByClass('RomanNumeral'):\n",
    "            rn_data = \"{}({})\".format(rn.romanNumeral,rn.inversion())\n",
    "            chord_order.append(rn_data)\n",
    "    return \",\".join(chord_order)"
   ]
  },
  {
   "cell_type": "markdown",
   "metadata": {},
   "source": [
    "## (b) Listing Multiple Songs in Proper Format <a class=\"anchor\" name=\"method-2-part-b\"></a>\n",
    "\n",
    "Now that I've made a method that generates the properly formatted string for a single song, the next goal is to repeat this process for multiple songs under the same composer.\n",
    "\n",
    "One way we could do this would be to manually find the files in the composer's folder which end in `.rntxt` and loop through the list of paths. However, it would be much more convenient for the method to do this automatically, which I don't know how to do yet so I'll leave it here."
   ]
  },
  {
   "cell_type": "code",
   "execution_count": 11,
   "metadata": {},
   "outputs": [],
   "source": [
    "def inv_format_scores_for_composer (composer=\"monteverdi\"):\n",
    "    \"\"\"\n",
    "    Generates the contents of the composer's dataset, which is a concatenation\n",
    "    of the chord progressions for a specific song\n",
    "    \"\"\"\n",
    "    MAX_NUM_DOTS = 20\n",
    "    \n",
    "    # 1. Search for all files that end with rntxt\n",
    "    metadatas = corpus.search(query=composer, fileExtensions=\"rntxt\")\n",
    "    num_files = len(metadatas)\n",
    "    print(\"Number of rntxt files found:\", num_files)\n",
    "    \n",
    "    file_contents = []\n",
    "    \n",
    "    num_parsed = 0\n",
    "    for m in metadatas:\n",
    "        # Format the score and append it to a list\n",
    "        formatted_score = inv_format_score(m.parse())\n",
    "        file_contents.append( formatted_score )\n",
    "        \n",
    "        # Print Progress\n",
    "        num_parsed += 1\n",
    "        num_dots = int(num_parsed / num_files * MAX_NUM_DOTS)\n",
    "        ending = '\\r' if num_parsed != num_files else '\\n'\n",
    "        print('[' + ('.' * num_dots) + (' ' * (MAX_NUM_DOTS - num_dots)) + ']', end=ending)\n",
    "        \n",
    "    return \"\\n\".join(file_contents)"
   ]
  },
  {
   "cell_type": "markdown",
   "metadata": {},
   "source": [
    "## (c) Create the File for One Composer <a class=\"anchor\" name=\"method-2-part-c\"></a>"
   ]
  },
  {
   "cell_type": "code",
   "execution_count": 12,
   "metadata": {},
   "outputs": [],
   "source": [
    "def generate_inv_dataset (composer: str):\n",
    "    \"\"\"\n",
    "    Given the name of the composer, it will search for files in the local\n",
    "    corpus which have the file extension \".rntxt\" and generates a list of\n",
    "    formatted songs where data on each roman numeral is separated by a\n",
    "    comma, and each song is separated by a new line character '\\n'.\n",
    "    \n",
    "    With this string, it saves the formatted string to a text file \n",
    "    \"\"\"\n",
    "    \n",
    "    print(\"Generating Dataset for:\", composer)\n",
    "    file_contents = inv_format_scores_for_composer(composer)\n",
    "    \n",
    "    # Doesn't generate the dataset if the contents are empty\n",
    "    if len(file_contents) == '0':\n",
    "        print('Dataset empty')\n",
    "        return\n",
    "    \n",
    "    # Generates a file to save the file contents to\n",
    "    file_name = \"datasets/inv-dataset-\" + composer + \".txt\"\n",
    "    f = open(file_name,\"w+\")\n",
    "    f.write(file_contents)\n",
    "    f.close()\n",
    "    \n",
    "    # Print the location\n",
    "    print(\"Dataset written to:\", file_name, end=\"\\n\\n\")"
   ]
  },
  {
   "cell_type": "markdown",
   "metadata": {},
   "source": [
    "## (d) Create Files for Several Composers <a class=\"anchor\" name=\"method-2-part-d\"></a>"
   ]
  },
  {
   "cell_type": "code",
   "execution_count": 13,
   "metadata": {
    "scrolled": true
   },
   "outputs": [
    {
     "name": "stdout",
     "output_type": "stream",
     "text": [
      "Generating Dataset for: monteverdi\n",
      "Number of rntxt files found: 46\n",
      "[....................]\n",
      "Dataset written to: inv-dataset-monteverdi.txt\n",
      "\n",
      "Generating Dataset for: bach\n",
      "Number of rntxt files found: 20\n",
      "[....................]\n",
      "Dataset written to: inv-dataset-bach.txt\n",
      "\n"
     ]
    }
   ],
   "source": [
    "generate_inv_dataset('monteverdi')\n",
    "generate_inv_dataset('bach')"
   ]
  },
  {
   "cell_type": "code",
   "execution_count": 14,
   "metadata": {},
   "outputs": [],
   "source": [
    "#eof"
   ]
  }
 ],
 "metadata": {
  "kernelspec": {
   "display_name": "Python 3",
   "language": "python",
   "name": "python3"
  },
  "language_info": {
   "codemirror_mode": {
    "name": "ipython",
    "version": 3
   },
   "file_extension": ".py",
   "mimetype": "text/x-python",
   "name": "python",
   "nbconvert_exporter": "python",
   "pygments_lexer": "ipython3",
   "version": "3.7.5"
  }
 },
 "nbformat": 4,
 "nbformat_minor": 4
}
