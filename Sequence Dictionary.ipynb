{
 "cells": [
  {
   "cell_type": "markdown",
   "metadata": {},
   "source": [
    "# Sequence Dictionary\n",
    "\n",
    "This python notebook will determine the frequency of an n-long sequence in a text file formatted as in the List Generator notebook."
   ]
  },
  {
   "cell_type": "code",
   "execution_count": 1,
   "metadata": {},
   "outputs": [],
   "source": [
    "def build_n_sequence_dictionary(n : int, txt : str) -> dict:\n",
    "    \"\"\"\n",
    "    Given a length n, returns a dictionary containing sequences\n",
    "    in txt of length n mapped to the number of times they appear\n",
    "    in txt.\n",
    "    \"\"\"\n",
    "    seq_dict = dict()\n",
    "    \n",
    "    blocks = txt.split('\\n')\n",
    "    for block in blocks:\n",
    "        elems = block.split(',')\n",
    "        for i in range(len(elems) - n):\n",
    "            seq = elems[i:i+n]\n",
    "            seq_dict[tuple(seq)] = seq_dict.get(tuple(seq), 0) + 1\n",
    "            \n",
    "    return seq_dict            "
   ]
  },
  {
   "cell_type": "code",
   "execution_count": 2,
   "metadata": {},
   "outputs": [
    {
     "name": "stdout",
     "output_type": "stream",
     "text": [
      "[(('V', 'i', 'V'), 16), (('i', 'V', 'i'), 12), (('i', 'V', 'I'), 8), (('ii', 'V', 'I'), 7), (('V', 'I', 'I'), 6), (('i', 'i', 'i'), 5), (('V', 'V', 'i'), 5), (('V', 'I', 'V'), 5), (('ii', 'I', 'ii'), 4), (('I', 'vi', 'V'), 4), (('I', 'ii', 'V'), 4), (('I', 'ii', 'I'), 4), (('I', 'V', 'V'), 4), (('ii', 'V', 'i'), 3), (('V', 'i', 'i'), 3), (('V', 'I', 'ii'), 3), (('V', 'I', 'i'), 3), (('V', 'I', 'IV'), 3), (('I', 'IV', 'ii'), 3), (('I', 'I', 'vi'), 3), (('vii', 'I', 'vi'), 2), (('vi', 'ii', 'V'), 2), (('vi', 'V', 'vi'), 2), (('vi', 'V', 'I'), 2), (('v', 'i', 'V'), 2), (('i', 'ii', 'V'), 2), (('i', 'i', 'V'), 2), (('i', 'VII', 'v'), 2), (('i', 'V', 'V'), 2), (('i', 'I', 'IV'), 2), (('V', 'vi', 'i'), 2), (('V', 'vi', 'V'), 2), (('V', 'i', 'VII'), 2), (('V', 'V', 'ii'), 2), (('V', 'I', 'vi'), 2), (('IV', 'ii', 'vii'), 2), (('IV', 'ii', 'V'), 2), (('IV', 'V', 'I'), 2), (('IV', 'IV', 'I'), 2), (('II', 'V', 'I'), 2), (('I', 'vii', 'I'), 2), (('I', 'vi', 'vi'), 2), (('I', 'i', 'i'), 2), (('I', 'i', 'V'), 2), (('I', 'V', 'vi'), 2), (('I', 'IV', 'V'), 2), (('I', 'IV', 'IV'), 2), (('I', 'I', 'V'), 2), (('I', 'I', 'IV'), 2), (('vii', 'iii', 'IV'), 1), (('vii', 'i', 'i'), 1), (('vii', 'V', 'i'), 1), (('vii', 'I', 'V'), 1), (('vii', 'I', 'I'), 1), (('vi', 'vi', 'II'), 1), (('vi', 'vi', 'I'), 1), (('vi', 'iii', 'i'), 1), (('vi', 'ii', 'I'), 1), (('vi', 'i', 'i'), 1), (('vi', 'i', 'V'), 1), (('vi', 'V', 'i'), 1), (('vi', 'V', 'IV'), 1), (('vi', 'V', 'II'), 1), (('vi', 'IV', 'V'), 1), (('vi', 'II', 'V'), 1), (('vi', 'I', 'IV'), 1), (('vi', 'I', 'I'), 1), (('v', 'iv', 'III'), 1), (('v', 'IV', 'i'), 1), (('v', 'IV', 'III'), 1), (('iv', 'iv', 'III'), 1), (('iv', 'VI', 'i'), 1), (('iv', 'V', 'V'), 1), (('iv', 'III', 'iv'), 1), (('iv', 'III', 'I'), 1), (('iii', 'vi', 'ii'), 1), (('iii', 'i', 'V'), 1), (('iii', 'IV', 'V'), 1), (('ii', 'vii', 'V'), 1), (('ii', 'vii', 'I'), 1), (('ii', 'vi', 'IV'), 1), (('ii', 'v', 'i'), 1), (('ii', 'ii', 'vi'), 1), (('ii', 'VI', 'VI'), 1), (('ii', 'V', 'IV'), 1), (('ii', 'I', 'IV'), 1), (('i', 'vii', 'i'), 1), (('i', 'v', 'IV'), 1), (('i', 'i', 'v'), 1), (('i', 'i', 'ii'), 1), (('i', 'i', 'VII'), 1), (('i', 'i', 'II'), 1), (('i', 'i', 'I'), 1), (('i', 'VII', 'VII'), 1), (('i', 'VI', 'V'), 1), (('i', 'V', 'vi'), 1), (('i', 'V', 'iii'), 1), (('i', 'II', 'III'), 1), (('VII', 'v', 'iv'), 1), (('VII', 'v', 'i'), 1), (('VII', 'iv', 'VI'), 1), (('VII', 'VII', 'iv'), 1), (('VI', 'iv', 'V'), 1), (('VI', 'i', 'V'), 1), (('VI', 'VI', 'iv'), 1), (('VI', 'V', 'i'), 1), (('V', 'vi', 'iii'), 1), (('V', 'vi', 'ii'), 1), (('V', 'iii', 'vi'), 1), (('V', 'ii', 'ii'), 1), (('V', 'ii', 'VI'), 1), (('V', 'ii', 'V'), 1), (('V', 'i', 'ii'), 1), (('V', 'i', 'VI'), 1), (('V', 'i', 'I'), 1), (('V', 'V', 'V'), 1), (('V', 'V', 'I'), 1), (('V', 'IV', 'vii'), 1), (('V', 'IV', 'ii'), 1), (('V', 'IV', 'I'), 1), (('V', 'II', 'V'), 1), (('V', 'I', 'vii'), 1), (('IV', 'vii', 'iii'), 1), (('IV', 'vii', 'I'), 1), (('IV', 'i', 'vii'), 1), (('IV', 'V', 'vi'), 1), (('IV', 'V', 'V'), 1), (('IV', 'III', 'V'), 1), (('IV', 'I', 'vi'), 1), (('IV', 'I', 'ii'), 1), (('IV', 'I', 'V'), 1), (('IV', 'I', 'I'), 1), (('III', 'v', 'IV'), 1), (('III', 'iv', 'iv'), 1), (('III', 'V', 'i'), 1), (('III', 'I', 'ii'), 1), (('II', 'III', 'v'), 1), (('I', 'vi', 'ii'), 1), (('I', 'vi', 'I'), 1), (('I', 'ii', 'v'), 1), (('I', 'V', 'ii'), 1), (('I', 'V', 'IV'), 1), (('I', 'V', 'I'), 1), (('I', 'IV', 'vii'), 1), (('I', 'IV', 'I'), 1), (('I', 'I', 'vii'), 1), (('I', 'I', 'i'), 1)]\n"
     ]
    }
   ],
   "source": [
    "# test\n",
    "\n",
    "txt = \"vi,V,I,IV,I,V,V,i,V,i,VI,V,i,V,i,i,i,I,IV,ii,vii,I,vi,I,I,IV,vii,I,vi,vi,I,IV,IV,I,I,IV,ii,V,I,V,V,ii,ii,vi,IV,V,I,I,V,V,ii,VI,VI,iv,V,V,i,V,I,V,IV,I,vi,V,I,I,i,i,VII,VII,iv,VI,i,V,i,ii,V,I,vi,V,vi,V,vi,i,V,I,V,ii,V,I,V,vi,i,i,V,i,V,I,i,V,i,V,i,V,I,ii,I,ii,V,I,I,vi,V,II,V,I,IV,ii,vii,V,i,V,I,i,V,i,V,I,ii,I,ii,V,I,ii,I,ii,V,I,I,vi,vi,II,V,I,vi,V,i,V,I,i,i,i,i,i,ii,V,i,V,i,i,i,v,IV,III,V,i,V,i,i,II,III,v,IV,i,vii,i,i,V,V,V,I,vii,I,I,vii,I,V,V,i,VII,v,i,V,V,i,V,I,I,V,vi,V,IV,ii,V,i,V,i,I,IV,IV,I,ii,I,ii,V,i,V,i,V,vi,ii,V,IV,vii,iii,IV,V,V,i,V,iii,vi,ii,V,I,I,vi,ii,I,IV,V,I,V,I,IV,V,vi,iii,i,V,i,VII,v,iv,III,iv,iv,III,I,ii,v,i,V,I\"\n",
    "\n",
    "seq_dict = build_n_sequence_dictionary(3, txt)\n",
    "# print(seq_dict)\n",
    "print(sorted(seq_dict.items(), key=lambda kv:(kv[1], kv[0]), reverse=True))"
   ]
  },
  {
   "cell_type": "markdown",
   "metadata": {},
   "source": [
    "## Using the Datasets"
   ]
  },
  {
   "cell_type": "code",
   "execution_count": 65,
   "metadata": {},
   "outputs": [],
   "source": [
    "def progression_conventionality(prog: str, composer: str, with_inversions=False) -> str:\n",
    "    '''\n",
    "    Given a chord progression formatted as roman numerals separated by commas\n",
    "    (if with_inversions=True, parentheses containing the inversion number, 0 \n",
    "    being the root inversion, follow each roman numeral) and a composer \n",
    "    (currently 'bach' and 'monteverdi' are the only ones supported),\n",
    "    returns string message containing number of times the given progression\n",
    "    appears in the composer's repertoire.\n",
    "    '''\n",
    "    # reads the correct dataset\n",
    "    txt = None\n",
    "    if composer == 'bach':\n",
    "        if with_inversions:\n",
    "            txt = open(\"inv-dataset-bach.txt\",\"r\").read()\n",
    "        else:\n",
    "            txt = open(\"simple-dataset-bach.txt\",\"r\").read()\n",
    "    elif composer == 'monteverdi':\n",
    "        if with_inversions:\n",
    "            txt = open(\"inv-dataset-monteverdi.txt\",\"r\").read()\n",
    "        else:\n",
    "            txt = open(\"simple-dataset-monteverdi.txt\",\"r\").read()\n",
    "    else:\n",
    "        raise NotImplementedError(\"The composer you've entered is not in the database.\")\n",
    "        \n",
    "    # creates the dictionary given the progression\n",
    "    prog_list = tuple(prog.split(','))\n",
    "    seq_dict = build_n_sequence_dictionary(len(prog_list), txt)\n",
    "    total_progs = sum(seq_dict.values())\n",
    "    try:\n",
    "        num_times = seq_dict[prog_list]\n",
    "    except:\n",
    "        raise ValueError('The progression you provided is not in the repertoire.')\n",
    "    \n",
    "    # returns message with information\n",
    "    msg = ''\n",
    "    if num_times == 1:\n",
    "        msg = composer + ' uses [' + prog + '] ' + str(num_times) + ' time in their repertoire.\\n'\n",
    "    else: \n",
    "        msg = composer + ' uses [' + prog + '] ' + str(num_times) + ' times in their repertoire.\\n'\n",
    "    msg += 'Compared to other length-' + str(len(prog_list)) + ' progressions, [' + prog + '] is used {:.2f}'.format(num_times/total_progs*100) + '%.'\n",
    "    return msg"
   ]
  },
  {
   "cell_type": "code",
   "execution_count": 71,
   "metadata": {},
   "outputs": [
    {
     "name": "stdout",
     "output_type": "stream",
     "text": [
      "monteverdi uses [V,I] 446 times in their repertoire.\n",
      "Compared to other length-2 progressions, [V,I] is used 6.74%.\n"
     ]
    }
   ],
   "source": [
    "# test without inversion\n",
    "prog = 'V,I'\n",
    "print(progression_conventionality(prog, 'monteverdi'))"
   ]
  },
  {
   "cell_type": "code",
   "execution_count": 70,
   "metadata": {},
   "outputs": [
    {
     "name": "stdout",
     "output_type": "stream",
     "text": [
      "monteverdi uses [V(0),I(0)] 312 times in their repertoire.\n",
      "Compared to other length-2 progressions, [V(0),I(0)] is used 4.72%.\n"
     ]
    }
   ],
   "source": [
    "# test with inversion\n",
    "prog = 'V(0),I(0)'\n",
    "print(progression_conventionality(prog, 'monteverdi', True))"
   ]
  },
  {
   "cell_type": "markdown",
   "metadata": {},
   "source": [
    "## Stretch Goals\n",
    "* automate roman numeral analysis for music21 parseable composers\n",
    "* return locations of matching progressions in scores"
   ]
  }
 ],
 "metadata": {
  "kernelspec": {
   "display_name": "Python 3",
   "language": "python",
   "name": "python3"
  },
  "language_info": {
   "codemirror_mode": {
    "name": "ipython",
    "version": 3
   },
   "file_extension": ".py",
   "mimetype": "text/x-python",
   "name": "python",
   "nbconvert_exporter": "python",
   "pygments_lexer": "ipython3",
   "version": "3.7.3"
  }
 },
 "nbformat": 4,
 "nbformat_minor": 4
}
